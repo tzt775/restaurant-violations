{
 "cells": [
  {
   "cell_type": "markdown",
   "id": "37c0ca02",
   "metadata": {},
   "source": [
    "## Load Packages and Import Data"
   ]
  },
  {
   "cell_type": "code",
   "execution_count": 1,
   "id": "4c9d5abd",
   "metadata": {},
   "outputs": [],
   "source": [
    "import pandas as pd\n",
    "import numpy as np\n",
    "import matplotlib.pyplot as plt\n",
    "import seaborn as sns\n",
    "from random import sample\n",
    "from random import seed\n",
    "from datetime import datetime\n",
    "from dateutil.relativedelta import relativedelta\n",
    "import plotly.express as px\n",
    "import calendar"
   ]
  },
  {
   "cell_type": "code",
   "execution_count": 2,
   "id": "4c905767",
   "metadata": {},
   "outputs": [],
   "source": [
    "SEED = 456\n",
    "TEST = 0.2\n",
    "PATH = \"Data/\""
   ]
  },
  {
   "cell_type": "code",
   "execution_count": 3,
   "id": "36393fdd",
   "metadata": {},
   "outputs": [
    {
     "name": "stdout",
     "output_type": "stream",
     "text": [
      "<class 'pandas.core.frame.DataFrame'>\n",
      "RangeIndex: 198622 entries, 0 to 198621\n",
      "Data columns (total 20 columns):\n",
      " #   Column                 Non-Null Count   Dtype  \n",
      "---  ------                 --------------   -----  \n",
      " 0   CAMIS                  198622 non-null  int64  \n",
      " 1   DBA                    196857 non-null  object \n",
      " 2   BORO                   198622 non-null  object \n",
      " 3   BUILDING               198255 non-null  object \n",
      " 4   STREET                 198595 non-null  object \n",
      " 5   ZIPCODE                195922 non-null  float64\n",
      " 6   PHONE                  198612 non-null  object \n",
      " 7   CUISINE DESCRIPTION    194269 non-null  object \n",
      " 8   INSPECTION DATE        198622 non-null  object \n",
      " 9   ACTION                 194269 non-null  object \n",
      " 10  VIOLATION CODE         193179 non-null  object \n",
      " 11  VIOLATION DESCRIPTION  193179 non-null  object \n",
      " 12  CRITICAL FLAG          198622 non-null  object \n",
      " 13  SCORE                  187609 non-null  float64\n",
      " 14  GRADE                  96904 non-null   object \n",
      " 15  GRADE DATE             89521 non-null   object \n",
      " 16  RECORD DATE            198622 non-null  object \n",
      " 17  INSPECTION TYPE        194269 non-null  object \n",
      " 18  Latitude               198319 non-null  float64\n",
      " 19  Longitude              198319 non-null  float64\n",
      "dtypes: float64(4), int64(1), object(15)\n",
      "memory usage: 30.3+ MB\n"
     ]
    }
   ],
   "source": [
    "nyc_restaurants = pd.read_csv(PATH + \"DOHMH_New_York_City_Restaurant_Inspection_Results.csv\")\n",
    "nyc_restaurants = nyc_restaurants.iloc[:, 0:20]\n",
    "nyc_restaurants.info()"
   ]
  },
  {
   "cell_type": "code",
   "execution_count": 4,
   "id": "5aa4f7b3",
   "metadata": {},
   "outputs": [
    {
     "data": {
      "text/plain": [
       "['CAMIS: 0',\n",
       " 'DBA: 1765',\n",
       " 'BORO: 0',\n",
       " 'BUILDING: 367',\n",
       " 'STREET: 27',\n",
       " 'ZIPCODE: 2700',\n",
       " 'PHONE: 10',\n",
       " 'CUISINE DESCRIPTION: 4353',\n",
       " 'INSPECTION DATE: 0',\n",
       " 'ACTION: 4353',\n",
       " 'VIOLATION CODE: 5443',\n",
       " 'VIOLATION DESCRIPTION: 5443',\n",
       " 'CRITICAL FLAG: 0',\n",
       " 'SCORE: 11013',\n",
       " 'GRADE: 101718',\n",
       " 'GRADE DATE: 109101',\n",
       " 'RECORD DATE: 0',\n",
       " 'INSPECTION TYPE: 4353',\n",
       " 'Latitude: 303',\n",
       " 'Longitude: 303']"
      ]
     },
     "execution_count": 4,
     "metadata": {},
     "output_type": "execute_result"
    }
   ],
   "source": [
    "[\"{}: {}\".format(column, nyc_restaurants[column].isna().sum()) for column in nyc_restaurants.columns]"
   ]
  },
  {
   "cell_type": "markdown",
   "id": "72162a8c",
   "metadata": {},
   "source": [
    "### Unscored Data"
   ]
  },
  {
   "cell_type": "code",
   "execution_count": 5,
   "id": "92b4d31f",
   "metadata": {},
   "outputs": [
    {
     "data": {
      "text/plain": [
       "['CAMIS: 0',\n",
       " 'DBA: 0',\n",
       " 'BORO: 0',\n",
       " 'BUILDING: 317',\n",
       " 'STREET: 0',\n",
       " 'ZIPCODE: 2529',\n",
       " 'PHONE: 9',\n",
       " 'CUISINE DESCRIPTION: 0',\n",
       " 'INSPECTION DATE: 0',\n",
       " 'ACTION: 0',\n",
       " 'VIOLATION CODE: 618',\n",
       " 'VIOLATION DESCRIPTION: 618',\n",
       " 'CRITICAL FLAG: 0',\n",
       " 'SCORE: 0',\n",
       " 'GRADE: 90723',\n",
       " 'GRADE DATE: 98091',\n",
       " 'RECORD DATE: 0',\n",
       " 'INSPECTION TYPE: 0',\n",
       " 'Latitude: 237',\n",
       " 'Longitude: 237']"
      ]
     },
     "execution_count": 5,
     "metadata": {},
     "output_type": "execute_result"
    }
   ],
   "source": [
    "scoreless_idx = np.where(nyc_restaurants.SCORE.isna() == True)\n",
    "scoreless = nyc_restaurants.iloc[scoreless_idx]\n",
    "[\"{}: {}\".format(column, nyc_restaurants[column].isna().sum() - scoreless[column].isna().sum()) for column in scoreless.columns]\n",
    "#[\"{}: {}\".format(column, nyc_restaurants[column].isna().sum()) for column in nyc_restaurants.columns]\n",
    "\n",
    "# most unscored restaurants correlate with missing name, cuisine info, action, inspection type,\n",
    "# violation code and description above (missing other data)"
   ]
  },
  {
   "cell_type": "code",
   "execution_count": 6,
   "id": "5fc1d19f",
   "metadata": {},
   "outputs": [
    {
     "name": "stdout",
     "output_type": "stream",
     "text": [
      "Median: 18.0\n",
      "Mean: 22.1\n",
      "3rd Quartile: 30.0\n",
      "\n"
     ]
    },
    {
     "data": {
      "image/png": "[encoded data removed]",
      "text/plain": [
       "<Figure size 640x480 with 1 Axes>"
      ]
     },
     "metadata": {},
     "output_type": "display_data"
    }
   ],
   "source": [
    "print(\"Median: {}\".format(np.median(nyc_restaurants.SCORE.dropna())))\n",
    "print(\"Mean: {:.1f}\".format(np.mean(nyc_restaurants.SCORE)))\n",
    "score_3rdq = nyc_restaurants.sort_values(by = \"SCORE\", ascending = True).\\\n",
    "iloc[np.ceil(.75*(len(nyc_restaurants.SCORE.dropna())+1)).astype('int32')].SCORE\n",
    "\n",
    "print(\"3rd Quartile: {}\".format(score_3rdq))\n",
    "print(\"\")\n",
    "\n",
    "scoreplot = sns.histplot(nyc_restaurants.SCORE)\n",
    "scoreplot.axvline(score_3rdq, color = \"black\")\n",
    "plt.title(\"Score Distribution\")\n",
    "plt.show()"
   ]
  },
  {
   "cell_type": "markdown",
   "id": "c0ee143a",
   "metadata": {},
   "source": [
    "## Data Tidying (Unaffected by Splitting)"
   ]
  },
  {
   "cell_type": "code",
   "execution_count": 7,
   "id": "1b5f6af1",
   "metadata": {},
   "outputs": [
    {
     "data": {
      "text/plain": [
       "(187609, 20)"
      ]
     },
     "execution_count": 7,
     "metadata": {},
     "output_type": "execute_result"
    }
   ],
   "source": [
    "# Drop missing scores (cannot reasonably impute)\n",
    "\n",
    "nyc_restaurants = nyc_restaurants.dropna(subset = \"SCORE\").reset_index(drop = True)\n",
    "nyc_restaurants.shape"
   ]
  },
  {
   "cell_type": "code",
   "execution_count": 8,
   "id": "a5936308",
   "metadata": {},
   "outputs": [],
   "source": [
    "#nyc_restaurants[\"INSPECTION TYPE\"].value_counts()\n",
    "\n",
    "# Pre-permit (operation vs non-op...)\n",
    "# Cycle\n",
    "# initial\n",
    "# Reopening\n",
    "# Compliance\n",
    "# Re-inspection\n",
    "\n",
    "# Inspection Type: Pre-permit and Cycle (Inter-Agency Task Force - 375)\n",
    "\n",
    "# Inspection Purpose: Initial, Re-inspection (if initial 14+ points), \n",
    "# (Second) Compliance (Unannounced), and Reopening (implies closed)"
   ]
  },
  {
   "cell_type": "code",
   "execution_count": 9,
   "id": "5b29cdb6",
   "metadata": {},
   "outputs": [
    {
     "data": {
      "text/html": [
       "<div>\n",
       "<style scoped>\n",
       "    .dataframe tbody tr th:only-of-type {\n",
       "        vertical-align: middle;\n",
       "    }\n",
       "\n",
       "    .dataframe tbody tr th {\n",
       "        vertical-align: top;\n",
       "    }\n",
       "\n",
       "    .dataframe thead th {\n",
       "        text-align: right;\n",
       "    }\n",
       "</style>\n",
       "<table border=\"1\" class=\"dataframe\">\n",
       "  <thead>\n",
       "    <tr style=\"text-align: right;\">\n",
       "      <th></th>\n",
       "      <th>CAMIS</th>\n",
       "      <th>DBA</th>\n",
       "      <th>BORO</th>\n",
       "      <th>BUILDING</th>\n",
       "      <th>STREET</th>\n",
       "      <th>ZIPCODE</th>\n",
       "      <th>PHONE</th>\n",
       "      <th>CUISINE DESCRIPTION</th>\n",
       "      <th>INSPECTION DATE</th>\n",
       "      <th>ACTION</th>\n",
       "      <th>...</th>\n",
       "      <th>VIOLATION DESCRIPTION</th>\n",
       "      <th>CRITICAL FLAG</th>\n",
       "      <th>SCORE</th>\n",
       "      <th>GRADE</th>\n",
       "      <th>GRADE DATE</th>\n",
       "      <th>RECORD DATE</th>\n",
       "      <th>INSPECTION TYPE</th>\n",
       "      <th>Latitude</th>\n",
       "      <th>Longitude</th>\n",
       "      <th>INSPECTION PURPOSE</th>\n",
       "    </tr>\n",
       "  </thead>\n",
       "  <tbody>\n",
       "    <tr>\n",
       "      <th>0</th>\n",
       "      <td>41395494</td>\n",
       "      <td>CITI FIELD SUITE KITCHEN</td>\n",
       "      <td>Queens</td>\n",
       "      <td>000</td>\n",
       "      <td>126TH ST &amp; ROOSEVELT AVENUE</td>\n",
       "      <td>NaN</td>\n",
       "      <td>7185958100</td>\n",
       "      <td>American</td>\n",
       "      <td>06/07/2016</td>\n",
       "      <td>No violations were recorded at the time of thi...</td>\n",
       "      <td>...</td>\n",
       "      <td>NaN</td>\n",
       "      <td>Not Applicable</td>\n",
       "      <td>0.0</td>\n",
       "      <td>A</td>\n",
       "      <td>06/07/2016</td>\n",
       "      <td>06/04/2023</td>\n",
       "      <td>Cycle</td>\n",
       "      <td>0.000000</td>\n",
       "      <td>0.000000</td>\n",
       "      <td>Initial</td>\n",
       "    </tr>\n",
       "    <tr>\n",
       "      <th>1</th>\n",
       "      <td>50050205</td>\n",
       "      <td>SO GONG DONG TOFU HOUSE</td>\n",
       "      <td>Queens</td>\n",
       "      <td>14906</td>\n",
       "      <td>41ST AVE</td>\n",
       "      <td>11355.0</td>\n",
       "      <td>7183210220</td>\n",
       "      <td>Korean</td>\n",
       "      <td>01/23/2020</td>\n",
       "      <td>Violations were cited in the following area(s).</td>\n",
       "      <td>...</td>\n",
       "      <td>Thawing procedures improper.</td>\n",
       "      <td>Not Critical</td>\n",
       "      <td>30.0</td>\n",
       "      <td>NaN</td>\n",
       "      <td>NaN</td>\n",
       "      <td>06/04/2023</td>\n",
       "      <td>Cycle</td>\n",
       "      <td>40.762136</td>\n",
       "      <td>-73.815562</td>\n",
       "      <td>Initial</td>\n",
       "    </tr>\n",
       "    <tr>\n",
       "      <th>2</th>\n",
       "      <td>50105094</td>\n",
       "      <td>ROSELLA</td>\n",
       "      <td>Manhattan</td>\n",
       "      <td>137</td>\n",
       "      <td>AVENUE A</td>\n",
       "      <td>10009.0</td>\n",
       "      <td>3479092698</td>\n",
       "      <td>Japanese</td>\n",
       "      <td>08/11/2022</td>\n",
       "      <td>Violations were cited in the following area(s).</td>\n",
       "      <td>...</td>\n",
       "      <td>Hot TCS food item not held at or above 140 °F.</td>\n",
       "      <td>Critical</td>\n",
       "      <td>20.0</td>\n",
       "      <td>NaN</td>\n",
       "      <td>NaN</td>\n",
       "      <td>06/04/2023</td>\n",
       "      <td>Cycle</td>\n",
       "      <td>40.726991</td>\n",
       "      <td>-73.982862</td>\n",
       "      <td>Initial</td>\n",
       "    </tr>\n",
       "    <tr>\n",
       "      <th>3</th>\n",
       "      <td>50044258</td>\n",
       "      <td>POPEYES</td>\n",
       "      <td>Bronx</td>\n",
       "      <td>C16</td>\n",
       "      <td>Concourse Plaza</td>\n",
       "      <td>NaN</td>\n",
       "      <td>9174719302</td>\n",
       "      <td>Chicken</td>\n",
       "      <td>08/15/2022</td>\n",
       "      <td>Violations were cited in the following area(s).</td>\n",
       "      <td>...</td>\n",
       "      <td>Hot TCS food item not held at or above 140 °F.</td>\n",
       "      <td>Critical</td>\n",
       "      <td>9.0</td>\n",
       "      <td>A</td>\n",
       "      <td>08/15/2022</td>\n",
       "      <td>06/04/2023</td>\n",
       "      <td>Cycle</td>\n",
       "      <td>0.000000</td>\n",
       "      <td>0.000000</td>\n",
       "      <td>Initial</td>\n",
       "    </tr>\n",
       "    <tr>\n",
       "      <th>4</th>\n",
       "      <td>40394401</td>\n",
       "      <td>BAR SIX</td>\n",
       "      <td>Manhattan</td>\n",
       "      <td>502</td>\n",
       "      <td>6 AVENUE</td>\n",
       "      <td>10011.0</td>\n",
       "      <td>2126911363</td>\n",
       "      <td>French</td>\n",
       "      <td>02/02/2022</td>\n",
       "      <td>Violations were cited in the following area(s).</td>\n",
       "      <td>...</td>\n",
       "      <td>Hot food item not held at or above 140º F.</td>\n",
       "      <td>Critical</td>\n",
       "      <td>46.0</td>\n",
       "      <td>NaN</td>\n",
       "      <td>NaN</td>\n",
       "      <td>06/04/2023</td>\n",
       "      <td>Cycle</td>\n",
       "      <td>40.736481</td>\n",
       "      <td>-73.997460</td>\n",
       "      <td>Initial</td>\n",
       "    </tr>\n",
       "    <tr>\n",
       "      <th>...</th>\n",
       "      <td>...</td>\n",
       "      <td>...</td>\n",
       "      <td>...</td>\n",
       "      <td>...</td>\n",
       "      <td>...</td>\n",
       "      <td>...</td>\n",
       "      <td>...</td>\n",
       "      <td>...</td>\n",
       "      <td>...</td>\n",
       "      <td>...</td>\n",
       "      <td>...</td>\n",
       "      <td>...</td>\n",
       "      <td>...</td>\n",
       "      <td>...</td>\n",
       "      <td>...</td>\n",
       "      <td>...</td>\n",
       "      <td>...</td>\n",
       "      <td>...</td>\n",
       "      <td>...</td>\n",
       "      <td>...</td>\n",
       "      <td>...</td>\n",
       "    </tr>\n",
       "    <tr>\n",
       "      <th>187604</th>\n",
       "      <td>40810657</td>\n",
       "      <td>SAN GERMAN CUCHIFRITO</td>\n",
       "      <td>Bronx</td>\n",
       "      <td>1020</td>\n",
       "      <td>TIFFANY STREET</td>\n",
       "      <td>10459.0</td>\n",
       "      <td>7189025807</td>\n",
       "      <td>Latin American</td>\n",
       "      <td>04/09/2016</td>\n",
       "      <td>Violations were cited in the following area(s).</td>\n",
       "      <td>...</td>\n",
       "      <td>Non-food contact surface improperly constructe...</td>\n",
       "      <td>Not Critical</td>\n",
       "      <td>7.0</td>\n",
       "      <td>A</td>\n",
       "      <td>04/09/2016</td>\n",
       "      <td>06/04/2023</td>\n",
       "      <td>Cycle</td>\n",
       "      <td>40.824276</td>\n",
       "      <td>-73.894855</td>\n",
       "      <td>Initial</td>\n",
       "    </tr>\n",
       "    <tr>\n",
       "      <th>187605</th>\n",
       "      <td>50065460</td>\n",
       "      <td>JADE HOUSE</td>\n",
       "      <td>Manhattan</td>\n",
       "      <td>2131</td>\n",
       "      <td>AMSTERDAM AVENUE</td>\n",
       "      <td>10032.0</td>\n",
       "      <td>2127950975</td>\n",
       "      <td>Chinese</td>\n",
       "      <td>01/08/2020</td>\n",
       "      <td>Violations were cited in the following area(s).</td>\n",
       "      <td>...</td>\n",
       "      <td>Cold food item held above 41º F (smoked fish a...</td>\n",
       "      <td>Critical</td>\n",
       "      <td>18.0</td>\n",
       "      <td>NaN</td>\n",
       "      <td>NaN</td>\n",
       "      <td>06/04/2023</td>\n",
       "      <td>Cycle</td>\n",
       "      <td>40.838256</td>\n",
       "      <td>-73.938071</td>\n",
       "      <td>Initial</td>\n",
       "    </tr>\n",
       "    <tr>\n",
       "      <th>187606</th>\n",
       "      <td>41630060</td>\n",
       "      <td>DUNKIN', BASKIN ROBBINS</td>\n",
       "      <td>Bronx</td>\n",
       "      <td>2172</td>\n",
       "      <td>WESTCHESTER AVENUE</td>\n",
       "      <td>10462.0</td>\n",
       "      <td>7189181235</td>\n",
       "      <td>Coffee/Tea</td>\n",
       "      <td>10/10/2019</td>\n",
       "      <td>Violations were cited in the following area(s).</td>\n",
       "      <td>...</td>\n",
       "      <td>Facility not vermin proof. Harborage or condit...</td>\n",
       "      <td>Not Critical</td>\n",
       "      <td>17.0</td>\n",
       "      <td>NaN</td>\n",
       "      <td>NaN</td>\n",
       "      <td>06/04/2023</td>\n",
       "      <td>Cycle</td>\n",
       "      <td>40.834110</td>\n",
       "      <td>-73.852374</td>\n",
       "      <td>Initial</td>\n",
       "    </tr>\n",
       "    <tr>\n",
       "      <th>187607</th>\n",
       "      <td>50126369</td>\n",
       "      <td>PEKING KITCHEN II</td>\n",
       "      <td>Manhattan</td>\n",
       "      <td>2162</td>\n",
       "      <td>8 AVENUE</td>\n",
       "      <td>10026.0</td>\n",
       "      <td>2122227888</td>\n",
       "      <td>Chinese</td>\n",
       "      <td>05/18/2023</td>\n",
       "      <td>Violations were cited in the following area(s).</td>\n",
       "      <td>...</td>\n",
       "      <td>Evidence of rats or live rats in establishment...</td>\n",
       "      <td>Critical</td>\n",
       "      <td>68.0</td>\n",
       "      <td>N</td>\n",
       "      <td>NaN</td>\n",
       "      <td>06/04/2023</td>\n",
       "      <td>Pre-permit</td>\n",
       "      <td>40.804828</td>\n",
       "      <td>-73.955054</td>\n",
       "      <td>Initial</td>\n",
       "    </tr>\n",
       "    <tr>\n",
       "      <th>187608</th>\n",
       "      <td>50128280</td>\n",
       "      <td>MIKAWA JAPANESE FUSION</td>\n",
       "      <td>Brooklyn</td>\n",
       "      <td>7407</td>\n",
       "      <td>3 AVENUE</td>\n",
       "      <td>11209.0</td>\n",
       "      <td>7188668090</td>\n",
       "      <td>Japanese</td>\n",
       "      <td>12/08/2022</td>\n",
       "      <td>Violations were cited in the following area(s).</td>\n",
       "      <td>...</td>\n",
       "      <td>Non-food contact surface or equipment made of ...</td>\n",
       "      <td>Not Critical</td>\n",
       "      <td>11.0</td>\n",
       "      <td>A</td>\n",
       "      <td>12/08/2022</td>\n",
       "      <td>06/04/2023</td>\n",
       "      <td>Pre-permit</td>\n",
       "      <td>40.632014</td>\n",
       "      <td>-74.027550</td>\n",
       "      <td>Initial</td>\n",
       "    </tr>\n",
       "  </tbody>\n",
       "</table>\n",
       "<p>187609 rows × 21 columns</p>\n",
       "</div>"
      ],
      "text/plain": [
       "           CAMIS                       DBA       BORO BUILDING  \\\n",
       "0       41395494  CITI FIELD SUITE KITCHEN     Queens      000   \n",
       "1       50050205   SO GONG DONG TOFU HOUSE     Queens    14906   \n",
       "2       50105094                   ROSELLA  Manhattan      137   \n",
       "3       50044258                   POPEYES      Bronx      C16   \n",
       "4       40394401                   BAR SIX  Manhattan      502   \n",
       "...          ...                       ...        ...      ...   \n",
       "187604  40810657     SAN GERMAN CUCHIFRITO      Bronx     1020   \n",
       "187605  50065460                JADE HOUSE  Manhattan     2131   \n",
       "187606  41630060   DUNKIN', BASKIN ROBBINS      Bronx     2172   \n",
       "187607  50126369         PEKING KITCHEN II  Manhattan     2162   \n",
       "187608  50128280    MIKAWA JAPANESE FUSION   Brooklyn     7407   \n",
       "\n",
       "                             STREET  ZIPCODE       PHONE CUISINE DESCRIPTION  \\\n",
       "0       126TH ST & ROOSEVELT AVENUE      NaN  7185958100            American   \n",
       "1                          41ST AVE  11355.0  7183210220              Korean   \n",
       "2                          AVENUE A  10009.0  3479092698            Japanese   \n",
       "3                   Concourse Plaza      NaN  9174719302             Chicken   \n",
       "4                          6 AVENUE  10011.0  2126911363              French   \n",
       "...                             ...      ...         ...                 ...   \n",
       "187604               TIFFANY STREET  10459.0  7189025807      Latin American   \n",
       "187605             AMSTERDAM AVENUE  10032.0  2127950975             Chinese   \n",
       "187606           WESTCHESTER AVENUE  10462.0  7189181235          Coffee/Tea   \n",
       "187607                     8 AVENUE  10026.0  2122227888             Chinese   \n",
       "187608                     3 AVENUE  11209.0  7188668090            Japanese   \n",
       "\n",
       "       INSPECTION DATE                                             ACTION  \\\n",
       "0           06/07/2016  No violations were recorded at the time of thi...   \n",
       "1           01/23/2020    Violations were cited in the following area(s).   \n",
       "2           08/11/2022    Violations were cited in the following area(s).   \n",
       "3           08/15/2022    Violations were cited in the following area(s).   \n",
       "4           02/02/2022    Violations were cited in the following area(s).   \n",
       "...                ...                                                ...   \n",
       "187604      04/09/2016    Violations were cited in the following area(s).   \n",
       "187605      01/08/2020    Violations were cited in the following area(s).   \n",
       "187606      10/10/2019    Violations were cited in the following area(s).   \n",
       "187607      05/18/2023    Violations were cited in the following area(s).   \n",
       "187608      12/08/2022    Violations were cited in the following area(s).   \n",
       "\n",
       "        ...                              VIOLATION DESCRIPTION  \\\n",
       "0       ...                                                NaN   \n",
       "1       ...                       Thawing procedures improper.   \n",
       "2       ...     Hot TCS food item not held at or above 140 °F.   \n",
       "3       ...     Hot TCS food item not held at or above 140 °F.   \n",
       "4       ...         Hot food item not held at or above 140º F.   \n",
       "...     ...                                                ...   \n",
       "187604  ...  Non-food contact surface improperly constructe...   \n",
       "187605  ...  Cold food item held above 41º F (smoked fish a...   \n",
       "187606  ...  Facility not vermin proof. Harborage or condit...   \n",
       "187607  ...  Evidence of rats or live rats in establishment...   \n",
       "187608  ...  Non-food contact surface or equipment made of ...   \n",
       "\n",
       "         CRITICAL FLAG SCORE  GRADE  GRADE DATE RECORD DATE INSPECTION TYPE  \\\n",
       "0       Not Applicable   0.0      A  06/07/2016  06/04/2023           Cycle   \n",
       "1         Not Critical  30.0    NaN         NaN  06/04/2023           Cycle   \n",
       "2             Critical  20.0    NaN         NaN  06/04/2023           Cycle   \n",
       "3             Critical   9.0      A  08/15/2022  06/04/2023           Cycle   \n",
       "4             Critical  46.0    NaN         NaN  06/04/2023           Cycle   \n",
       "...                ...   ...    ...         ...         ...             ...   \n",
       "187604    Not Critical   7.0      A  04/09/2016  06/04/2023           Cycle   \n",
       "187605        Critical  18.0    NaN         NaN  06/04/2023           Cycle   \n",
       "187606    Not Critical  17.0    NaN         NaN  06/04/2023           Cycle   \n",
       "187607        Critical  68.0      N         NaN  06/04/2023      Pre-permit   \n",
       "187608    Not Critical  11.0      A  12/08/2022  06/04/2023      Pre-permit   \n",
       "\n",
       "         Latitude  Longitude  INSPECTION PURPOSE  \n",
       "0        0.000000   0.000000             Initial  \n",
       "1       40.762136 -73.815562             Initial  \n",
       "2       40.726991 -73.982862             Initial  \n",
       "3        0.000000   0.000000             Initial  \n",
       "4       40.736481 -73.997460             Initial  \n",
       "...           ...        ...                 ...  \n",
       "187604  40.824276 -73.894855             Initial  \n",
       "187605  40.838256 -73.938071             Initial  \n",
       "187606  40.834110 -73.852374             Initial  \n",
       "187607  40.804828 -73.955054             Initial  \n",
       "187608  40.632014 -74.027550             Initial  \n",
       "\n",
       "[187609 rows x 21 columns]"
      ]
     },
     "execution_count": 9,
     "metadata": {},
     "output_type": "execute_result"
    }
   ],
   "source": [
    "nyc_restaurants[\"INSPECTION PURPOSE\"] = \\\n",
    "[line.split(\" / \")[1] for line in nyc_restaurants[\"INSPECTION TYPE\"]]\n",
    "\n",
    "nyc_restaurants[\"INSPECTION PURPOSE\"] = \\\n",
    "[line.split(\" \")[0] for line in nyc_restaurants[\"INSPECTION PURPOSE\"]]\n",
    "\n",
    "# Group first and second compliance inspections together \n",
    "#(# compliance dependent on month of first inspections)\n",
    "nyc_restaurants[\"INSPECTION PURPOSE\"] = \\\n",
    "nyc_restaurants[\"INSPECTION PURPOSE\"].replace(\"Second\", \"Compliance\")\n",
    "\n",
    "nyc_restaurants[\"INSPECTION TYPE\"] = \\\n",
    "[line.split(\" \")[0] for line in nyc_restaurants[\"INSPECTION TYPE\"]]\n",
    "\n",
    "nyc_restaurants"
   ]
  },
  {
   "cell_type": "code",
   "execution_count": 10,
   "id": "c38ee49a",
   "metadata": {},
   "outputs": [],
   "source": [
    "#X_test[\"CRITICAL FLAG\"].value_counts()\n",
    "# connected to violation code/desc\n",
    "# treat Not Applicable as Not Critical\n",
    "\n",
    "#X_train = X_train.loc[X_train[\"CRITICAL FLAG\"] != \"Not Applicable\"]"
   ]
  },
  {
   "cell_type": "code",
   "execution_count": 11,
   "id": "0eba8726",
   "metadata": {},
   "outputs": [],
   "source": [
    "#X_test[\"ACTION\"].value_counts()"
   ]
  },
  {
   "cell_type": "markdown",
   "id": "3d2bf20e",
   "metadata": {},
   "source": [
    "### Imputation"
   ]
  },
  {
   "cell_type": "code",
   "execution_count": 12,
   "id": "724db942",
   "metadata": {},
   "outputs": [
    {
     "name": "stdout",
     "output_type": "stream",
     "text": [
      "<class 'pandas.core.frame.DataFrame'>\n",
      "RangeIndex: 187609 entries, 0 to 187608\n",
      "Data columns (total 21 columns):\n",
      " #   Column                 Non-Null Count   Dtype  \n",
      "---  ------                 --------------   -----  \n",
      " 0   CAMIS                  187609 non-null  int64  \n",
      " 1   DBA                    187609 non-null  object \n",
      " 2   BORO                   187609 non-null  object \n",
      " 3   BUILDING               187292 non-null  object \n",
      " 4   STREET                 187609 non-null  object \n",
      " 5   ZIPCODE                185080 non-null  float64\n",
      " 6   PHONE                  187600 non-null  object \n",
      " 7   CUISINE DESCRIPTION    187609 non-null  object \n",
      " 8   INSPECTION DATE        187609 non-null  object \n",
      " 9   ACTION                 187609 non-null  object \n",
      " 10  VIOLATION CODE         186991 non-null  object \n",
      " 11  VIOLATION DESCRIPTION  186991 non-null  object \n",
      " 12  CRITICAL FLAG          187609 non-null  object \n",
      " 13  SCORE                  187609 non-null  float64\n",
      " 14  GRADE                  96886 non-null   object \n",
      " 15  GRADE DATE             89518 non-null   object \n",
      " 16  RECORD DATE            187609 non-null  object \n",
      " 17  INSPECTION TYPE        187609 non-null  object \n",
      " 18  Latitude               187372 non-null  float64\n",
      " 19  Longitude              187372 non-null  float64\n",
      " 20  INSPECTION PURPOSE     187609 non-null  object \n",
      "dtypes: float64(4), int64(1), object(16)\n",
      "memory usage: 30.1+ MB\n"
     ]
    }
   ],
   "source": [
    "# missing: building, zip, phone, violation code, violation description, grade date, \n",
    "# longitude, latitude\n",
    "# drop na in building, phone, violation code, violation description, longitude and \n",
    "# latitude (cannot logically impute)\n",
    "\n",
    "nyc_restaurants.info()"
   ]
  },
  {
   "cell_type": "code",
   "execution_count": 13,
   "id": "697659d5",
   "metadata": {},
   "outputs": [],
   "source": [
    "date_disparity = np.where(nyc_restaurants[\"GRADE DATE\"] != nyc_restaurants[\"INSPECTION DATE\"])\n",
    "nyc_restaurants.iloc[date_disparity][\"GRADE DATE\"].value_counts(dropna = False)\n",
    "# all grade dates same as inspection date or na\n",
    "\n",
    "nyc_restaurants[\"GRADED\"] = \"0\"\n",
    "nyc_restaurants.loc[nyc_restaurants[\"GRADE DATE\"] == nyc_restaurants[\"INSPECTION DATE\"], \"GRADED\"] = \"1\""
   ]
  },
  {
   "cell_type": "code",
   "execution_count": 14,
   "id": "2e35046d",
   "metadata": {},
   "outputs": [
    {
     "data": {
      "text/html": [
       "<div>\n",
       "<style scoped>\n",
       "    .dataframe tbody tr th:only-of-type {\n",
       "        vertical-align: middle;\n",
       "    }\n",
       "\n",
       "    .dataframe tbody tr th {\n",
       "        vertical-align: top;\n",
       "    }\n",
       "\n",
       "    .dataframe thead th {\n",
       "        text-align: right;\n",
       "    }\n",
       "</style>\n",
       "<table border=\"1\" class=\"dataframe\">\n",
       "  <thead>\n",
       "    <tr style=\"text-align: right;\">\n",
       "      <th></th>\n",
       "      <th>CAMIS</th>\n",
       "      <th>DBA</th>\n",
       "      <th>BORO</th>\n",
       "      <th>BUILDING</th>\n",
       "      <th>STREET</th>\n",
       "      <th>ZIPCODE</th>\n",
       "      <th>PHONE</th>\n",
       "      <th>CUISINE DESCRIPTION</th>\n",
       "      <th>INSPECTION DATE</th>\n",
       "      <th>ACTION</th>\n",
       "      <th>VIOLATION CODE</th>\n",
       "      <th>VIOLATION DESCRIPTION</th>\n",
       "      <th>CRITICAL FLAG</th>\n",
       "      <th>SCORE</th>\n",
       "      <th>INSPECTION TYPE</th>\n",
       "      <th>Latitude</th>\n",
       "      <th>Longitude</th>\n",
       "      <th>INSPECTION PURPOSE</th>\n",
       "      <th>GRADED</th>\n",
       "    </tr>\n",
       "  </thead>\n",
       "  <tbody>\n",
       "    <tr>\n",
       "      <th>0</th>\n",
       "      <td>50050205</td>\n",
       "      <td>SO GONG DONG TOFU HOUSE</td>\n",
       "      <td>Queens</td>\n",
       "      <td>14906</td>\n",
       "      <td>41ST AVE</td>\n",
       "      <td>11355.0</td>\n",
       "      <td>7183210220</td>\n",
       "      <td>Korean</td>\n",
       "      <td>01/23/2020</td>\n",
       "      <td>Violations were cited in the following area(s).</td>\n",
       "      <td>09B</td>\n",
       "      <td>Thawing procedures improper.</td>\n",
       "      <td>Not Critical</td>\n",
       "      <td>30.0</td>\n",
       "      <td>Cycle</td>\n",
       "      <td>40.762136</td>\n",
       "      <td>-73.815562</td>\n",
       "      <td>Initial</td>\n",
       "      <td>0</td>\n",
       "    </tr>\n",
       "    <tr>\n",
       "      <th>1</th>\n",
       "      <td>50105094</td>\n",
       "      <td>ROSELLA</td>\n",
       "      <td>Manhattan</td>\n",
       "      <td>137</td>\n",
       "      <td>AVENUE A</td>\n",
       "      <td>10009.0</td>\n",
       "      <td>3479092698</td>\n",
       "      <td>Japanese</td>\n",
       "      <td>08/11/2022</td>\n",
       "      <td>Violations were cited in the following area(s).</td>\n",
       "      <td>02B</td>\n",
       "      <td>Hot TCS food item not held at or above 140 °F.</td>\n",
       "      <td>Critical</td>\n",
       "      <td>20.0</td>\n",
       "      <td>Cycle</td>\n",
       "      <td>40.726991</td>\n",
       "      <td>-73.982862</td>\n",
       "      <td>Initial</td>\n",
       "      <td>0</td>\n",
       "    </tr>\n",
       "    <tr>\n",
       "      <th>2</th>\n",
       "      <td>40394401</td>\n",
       "      <td>BAR SIX</td>\n",
       "      <td>Manhattan</td>\n",
       "      <td>502</td>\n",
       "      <td>6 AVENUE</td>\n",
       "      <td>10011.0</td>\n",
       "      <td>2126911363</td>\n",
       "      <td>French</td>\n",
       "      <td>02/02/2022</td>\n",
       "      <td>Violations were cited in the following area(s).</td>\n",
       "      <td>02B</td>\n",
       "      <td>Hot food item not held at or above 140º F.</td>\n",
       "      <td>Critical</td>\n",
       "      <td>46.0</td>\n",
       "      <td>Cycle</td>\n",
       "      <td>40.736481</td>\n",
       "      <td>-73.997460</td>\n",
       "      <td>Initial</td>\n",
       "      <td>0</td>\n",
       "    </tr>\n",
       "    <tr>\n",
       "      <th>3</th>\n",
       "      <td>41622870</td>\n",
       "      <td>SUBWAY</td>\n",
       "      <td>Manhattan</td>\n",
       "      <td>90</td>\n",
       "      <td>WORTH STREET</td>\n",
       "      <td>10013.0</td>\n",
       "      <td>2125130937</td>\n",
       "      <td>Sandwiches</td>\n",
       "      <td>05/19/2022</td>\n",
       "      <td>Violations were cited in the following area(s).</td>\n",
       "      <td>10J</td>\n",
       "      <td>Hand wash sign not posted</td>\n",
       "      <td>Not Critical</td>\n",
       "      <td>69.0</td>\n",
       "      <td>Cycle</td>\n",
       "      <td>40.716387</td>\n",
       "      <td>-74.004794</td>\n",
       "      <td>Initial</td>\n",
       "      <td>0</td>\n",
       "    </tr>\n",
       "    <tr>\n",
       "      <th>4</th>\n",
       "      <td>50100933</td>\n",
       "      <td>GEO SI GI</td>\n",
       "      <td>Queens</td>\n",
       "      <td>15228</td>\n",
       "      <td>NORTHERN BLVD</td>\n",
       "      <td>11354.0</td>\n",
       "      <td>7188880001</td>\n",
       "      <td>Korean</td>\n",
       "      <td>09/24/2022</td>\n",
       "      <td>Violations were cited in the following area(s).</td>\n",
       "      <td>02B</td>\n",
       "      <td>Hot TCS food item not held at or above 140 °F.</td>\n",
       "      <td>Critical</td>\n",
       "      <td>37.0</td>\n",
       "      <td>Cycle</td>\n",
       "      <td>40.764889</td>\n",
       "      <td>-73.812143</td>\n",
       "      <td>Initial</td>\n",
       "      <td>0</td>\n",
       "    </tr>\n",
       "    <tr>\n",
       "      <th>...</th>\n",
       "      <td>...</td>\n",
       "      <td>...</td>\n",
       "      <td>...</td>\n",
       "      <td>...</td>\n",
       "      <td>...</td>\n",
       "      <td>...</td>\n",
       "      <td>...</td>\n",
       "      <td>...</td>\n",
       "      <td>...</td>\n",
       "      <td>...</td>\n",
       "      <td>...</td>\n",
       "      <td>...</td>\n",
       "      <td>...</td>\n",
       "      <td>...</td>\n",
       "      <td>...</td>\n",
       "      <td>...</td>\n",
       "      <td>...</td>\n",
       "      <td>...</td>\n",
       "      <td>...</td>\n",
       "    </tr>\n",
       "    <tr>\n",
       "      <th>184092</th>\n",
       "      <td>40810657</td>\n",
       "      <td>SAN GERMAN CUCHIFRITO</td>\n",
       "      <td>Bronx</td>\n",
       "      <td>1020</td>\n",
       "      <td>TIFFANY STREET</td>\n",
       "      <td>10459.0</td>\n",
       "      <td>7189025807</td>\n",
       "      <td>Latin American</td>\n",
       "      <td>04/09/2016</td>\n",
       "      <td>Violations were cited in the following area(s).</td>\n",
       "      <td>10F</td>\n",
       "      <td>Non-food contact surface improperly constructe...</td>\n",
       "      <td>Not Critical</td>\n",
       "      <td>7.0</td>\n",
       "      <td>Cycle</td>\n",
       "      <td>40.824276</td>\n",
       "      <td>-73.894855</td>\n",
       "      <td>Initial</td>\n",
       "      <td>1</td>\n",
       "    </tr>\n",
       "    <tr>\n",
       "      <th>184093</th>\n",
       "      <td>50065460</td>\n",
       "      <td>JADE HOUSE</td>\n",
       "      <td>Manhattan</td>\n",
       "      <td>2131</td>\n",
       "      <td>AMSTERDAM AVENUE</td>\n",
       "      <td>10032.0</td>\n",
       "      <td>2127950975</td>\n",
       "      <td>Chinese</td>\n",
       "      <td>01/08/2020</td>\n",
       "      <td>Violations were cited in the following area(s).</td>\n",
       "      <td>02G</td>\n",
       "      <td>Cold food item held above 41º F (smoked fish a...</td>\n",
       "      <td>Critical</td>\n",
       "      <td>18.0</td>\n",
       "      <td>Cycle</td>\n",
       "      <td>40.838256</td>\n",
       "      <td>-73.938071</td>\n",
       "      <td>Initial</td>\n",
       "      <td>0</td>\n",
       "    </tr>\n",
       "    <tr>\n",
       "      <th>184094</th>\n",
       "      <td>41630060</td>\n",
       "      <td>DUNKIN', BASKIN ROBBINS</td>\n",
       "      <td>Bronx</td>\n",
       "      <td>2172</td>\n",
       "      <td>WESTCHESTER AVENUE</td>\n",
       "      <td>10462.0</td>\n",
       "      <td>7189181235</td>\n",
       "      <td>Coffee/Tea</td>\n",
       "      <td>10/10/2019</td>\n",
       "      <td>Violations were cited in the following area(s).</td>\n",
       "      <td>08A</td>\n",
       "      <td>Facility not vermin proof. Harborage or condit...</td>\n",
       "      <td>Not Critical</td>\n",
       "      <td>17.0</td>\n",
       "      <td>Cycle</td>\n",
       "      <td>40.834110</td>\n",
       "      <td>-73.852374</td>\n",
       "      <td>Initial</td>\n",
       "      <td>0</td>\n",
       "    </tr>\n",
       "    <tr>\n",
       "      <th>184095</th>\n",
       "      <td>50126369</td>\n",
       "      <td>PEKING KITCHEN II</td>\n",
       "      <td>Manhattan</td>\n",
       "      <td>2162</td>\n",
       "      <td>8 AVENUE</td>\n",
       "      <td>10026.0</td>\n",
       "      <td>2122227888</td>\n",
       "      <td>Chinese</td>\n",
       "      <td>05/18/2023</td>\n",
       "      <td>Violations were cited in the following area(s).</td>\n",
       "      <td>04K</td>\n",
       "      <td>Evidence of rats or live rats in establishment...</td>\n",
       "      <td>Critical</td>\n",
       "      <td>68.0</td>\n",
       "      <td>Pre-permit</td>\n",
       "      <td>40.804828</td>\n",
       "      <td>-73.955054</td>\n",
       "      <td>Initial</td>\n",
       "      <td>0</td>\n",
       "    </tr>\n",
       "    <tr>\n",
       "      <th>184096</th>\n",
       "      <td>50128280</td>\n",
       "      <td>MIKAWA JAPANESE FUSION</td>\n",
       "      <td>Brooklyn</td>\n",
       "      <td>7407</td>\n",
       "      <td>3 AVENUE</td>\n",
       "      <td>11209.0</td>\n",
       "      <td>7188668090</td>\n",
       "      <td>Japanese</td>\n",
       "      <td>12/08/2022</td>\n",
       "      <td>Violations were cited in the following area(s).</td>\n",
       "      <td>10F</td>\n",
       "      <td>Non-food contact surface or equipment made of ...</td>\n",
       "      <td>Not Critical</td>\n",
       "      <td>11.0</td>\n",
       "      <td>Pre-permit</td>\n",
       "      <td>40.632014</td>\n",
       "      <td>-74.027550</td>\n",
       "      <td>Initial</td>\n",
       "      <td>1</td>\n",
       "    </tr>\n",
       "  </tbody>\n",
       "</table>\n",
       "<p>184097 rows × 19 columns</p>\n",
       "</div>"
      ],
      "text/plain": [
       "           CAMIS                      DBA       BORO BUILDING  \\\n",
       "0       50050205  SO GONG DONG TOFU HOUSE     Queens    14906   \n",
       "1       50105094                  ROSELLA  Manhattan      137   \n",
       "2       40394401                  BAR SIX  Manhattan      502   \n",
       "3       41622870                   SUBWAY  Manhattan       90   \n",
       "4       50100933                GEO SI GI     Queens    15228   \n",
       "...          ...                      ...        ...      ...   \n",
       "184092  40810657    SAN GERMAN CUCHIFRITO      Bronx     1020   \n",
       "184093  50065460               JADE HOUSE  Manhattan     2131   \n",
       "184094  41630060  DUNKIN', BASKIN ROBBINS      Bronx     2172   \n",
       "184095  50126369        PEKING KITCHEN II  Manhattan     2162   \n",
       "184096  50128280   MIKAWA JAPANESE FUSION   Brooklyn     7407   \n",
       "\n",
       "                    STREET  ZIPCODE       PHONE CUISINE DESCRIPTION  \\\n",
       "0                 41ST AVE  11355.0  7183210220              Korean   \n",
       "1                 AVENUE A  10009.0  3479092698            Japanese   \n",
       "2                 6 AVENUE  10011.0  2126911363              French   \n",
       "3             WORTH STREET  10013.0  2125130937          Sandwiches   \n",
       "4            NORTHERN BLVD  11354.0  7188880001              Korean   \n",
       "...                    ...      ...         ...                 ...   \n",
       "184092      TIFFANY STREET  10459.0  7189025807      Latin American   \n",
       "184093    AMSTERDAM AVENUE  10032.0  2127950975             Chinese   \n",
       "184094  WESTCHESTER AVENUE  10462.0  7189181235          Coffee/Tea   \n",
       "184095            8 AVENUE  10026.0  2122227888             Chinese   \n",
       "184096            3 AVENUE  11209.0  7188668090            Japanese   \n",
       "\n",
       "       INSPECTION DATE                                           ACTION  \\\n",
       "0           01/23/2020  Violations were cited in the following area(s).   \n",
       "1           08/11/2022  Violations were cited in the following area(s).   \n",
       "2           02/02/2022  Violations were cited in the following area(s).   \n",
       "3           05/19/2022  Violations were cited in the following area(s).   \n",
       "4           09/24/2022  Violations were cited in the following area(s).   \n",
       "...                ...                                              ...   \n",
       "184092      04/09/2016  Violations were cited in the following area(s).   \n",
       "184093      01/08/2020  Violations were cited in the following area(s).   \n",
       "184094      10/10/2019  Violations were cited in the following area(s).   \n",
       "184095      05/18/2023  Violations were cited in the following area(s).   \n",
       "184096      12/08/2022  Violations were cited in the following area(s).   \n",
       "\n",
       "       VIOLATION CODE                              VIOLATION DESCRIPTION  \\\n",
       "0                 09B                       Thawing procedures improper.   \n",
       "1                 02B     Hot TCS food item not held at or above 140 °F.   \n",
       "2                 02B         Hot food item not held at or above 140º F.   \n",
       "3                 10J                          Hand wash sign not posted   \n",
       "4                 02B     Hot TCS food item not held at or above 140 °F.   \n",
       "...               ...                                                ...   \n",
       "184092            10F  Non-food contact surface improperly constructe...   \n",
       "184093            02G  Cold food item held above 41º F (smoked fish a...   \n",
       "184094            08A  Facility not vermin proof. Harborage or condit...   \n",
       "184095            04K  Evidence of rats or live rats in establishment...   \n",
       "184096            10F  Non-food contact surface or equipment made of ...   \n",
       "\n",
       "       CRITICAL FLAG  SCORE INSPECTION TYPE   Latitude  Longitude  \\\n",
       "0       Not Critical   30.0           Cycle  40.762136 -73.815562   \n",
       "1           Critical   20.0           Cycle  40.726991 -73.982862   \n",
       "2           Critical   46.0           Cycle  40.736481 -73.997460   \n",
       "3       Not Critical   69.0           Cycle  40.716387 -74.004794   \n",
       "4           Critical   37.0           Cycle  40.764889 -73.812143   \n",
       "...              ...    ...             ...        ...        ...   \n",
       "184092  Not Critical    7.0           Cycle  40.824276 -73.894855   \n",
       "184093      Critical   18.0           Cycle  40.838256 -73.938071   \n",
       "184094  Not Critical   17.0           Cycle  40.834110 -73.852374   \n",
       "184095      Critical   68.0      Pre-permit  40.804828 -73.955054   \n",
       "184096  Not Critical   11.0      Pre-permit  40.632014 -74.027550   \n",
       "\n",
       "       INSPECTION PURPOSE GRADED  \n",
       "0                 Initial      0  \n",
       "1                 Initial      0  \n",
       "2                 Initial      0  \n",
       "3                 Initial      0  \n",
       "4                 Initial      0  \n",
       "...                   ...    ...  \n",
       "184092            Initial      1  \n",
       "184093            Initial      0  \n",
       "184094            Initial      0  \n",
       "184095            Initial      0  \n",
       "184096            Initial      1  \n",
       "\n",
       "[184097 rows x 19 columns]"
      ]
     },
     "execution_count": 14,
     "metadata": {},
     "output_type": "execute_result"
    }
   ],
   "source": [
    "nyc_restaurants = nyc_restaurants.drop([\"GRADE DATE\", \"GRADE\", \"RECORD DATE\"], axis = 1)\n",
    "\n",
    "# missing about 50% of data, and grade less informative than score\n",
    "# record date = date added to data (unrelated)\n",
    "\n",
    "nyc_restaurants = nyc_restaurants.dropna().reset_index(drop = True)\n",
    "nyc_restaurants"
   ]
  },
  {
   "cell_type": "markdown",
   "id": "b8f09629",
   "metadata": {},
   "source": [
    "### Check Missing Zipcodes for Patterns"
   ]
  },
  {
   "cell_type": "code",
   "execution_count": 15,
   "id": "f646425e",
   "metadata": {},
   "outputs": [],
   "source": [
    "nyc_restaurants[\"ZIPCODE\"] = nyc_restaurants[\"ZIPCODE\"].astype(\"str\")\n",
    "missing_zip = np.where(nyc_restaurants[\"ZIPCODE\"].isna() == True)\n",
    "missing_zip = nyc_restaurants.iloc[missing_zip]\n",
    "#missing_zip\n",
    "\n",
    "unique_missing_zip = missing_zip.DBA.unique()\n",
    "#unique_missing_zip\n",
    "\n",
    "# New York has 1,776 active zip codes"
   ]
  },
  {
   "cell_type": "code",
   "execution_count": 16,
   "id": "dde4440f",
   "metadata": {},
   "outputs": [],
   "source": [
    "#nyc_restaurants.loc[(nyc_restaurants[\"BORO\"] == \"Bronx\") & (nyc_restaurants[\"STREET\"] == \"MORRIS PARK AVENUE\")]\n",
    "#nyc_restaurants.loc[(nyc_restaurants[\"BORO\"] == \"Manhattan\") & (nyc_restaurants[\"STREET\"] == \"CATHERINE STREET\")] # 10038\n",
    "#nyc_restaurants.loc[(nyc_restaurants[\"BORO\"] == \"Brooklyn\") & (nyc_restaurants[\"STREET\"] == \"FLATBUSH AVENUE\")]\n",
    "\n",
    "\n",
    "#[nyc_restaurants.loc[nyc_restaurants[\"DBA\"] == restaurant].ZIPCODE for restaurant in unique_missing_zip]\n",
    "\n",
    "# most resturants zipcode missing for all instances, or have multiple zipcode listed for same location"
   ]
  },
  {
   "cell_type": "markdown",
   "id": "f0ed5a9e",
   "metadata": {},
   "source": [
    "### Data Cleaning and Feature Engineering"
   ]
  },
  {
   "cell_type": "code",
   "execution_count": 17,
   "id": "17ebd25d",
   "metadata": {},
   "outputs": [],
   "source": [
    "nyc_restaurants[\"INSPECTION DATE\"] = [datetime.strptime(day, \"%m/%d/%Y\").date() for day in nyc_restaurants[\"INSPECTION DATE\"]]\n",
    "\n",
    "#X_test[\"INSPECTION DATE\"] = [datetime.strptime(day, \"%m/%d/%Y\").date() for day in X_test[\"INSPECTION DATE\"]]\n",
    "\n",
    "nyc_restaurants[\"POST COVID\"] = \"0\"\n",
    "nyc_restaurants.loc[nyc_restaurants[\"INSPECTION DATE\"].astype('str') >= '2021-03-16', \"POST COVID\"] = \"1\"\n",
    "\n",
    "# \"the World Health Organization declared a global COVID-19 pandemic on March 11.[8] \n",
    "# New York City public schools closed as of March 16, and remote learning began on March 23.\" \n",
    "# - Wikipedia"
   ]
  },
  {
   "cell_type": "code",
   "execution_count": 18,
   "id": "8a26d62e",
   "metadata": {},
   "outputs": [],
   "source": [
    "# Combine violation descriptions into 1 by restaurant visit\n",
    "\n",
    "nyc_restaurants[\"VIOLATION DESCRIPTION\"] = \\\n",
    "nyc_restaurants.groupby([\"CAMIS\", \"INSPECTION DATE\"])[\"VIOLATION DESCRIPTION\"].transform(lambda x: \" , \".join(x))\n",
    "\n",
    "#X_test[\"VIOLATION DESCRIPTION\"] = \\\n",
    "#X_test.groupby([\"CAMIS\", \"INSPECTION DATE\"])[\"VIOLATION DESCRIPTION\"].transform(lambda x: \" , \".join(x))"
   ]
  },
  {
   "cell_type": "code",
   "execution_count": 19,
   "id": "8b199ba5",
   "metadata": {},
   "outputs": [],
   "source": [
    "nyc_restaurants[\"CRITICAL FLAG\"].value_counts()\n",
    "# only 1 Not Applicable - drop\n",
    "\n",
    "nyc_restaurants[\"CRITICAL FLAGS PER INSPECTION\"] = \\\n",
    "nyc_restaurants.groupby([\"CAMIS\", \"INSPECTION DATE\"])[\"CRITICAL FLAG\"].transform(func = lambda x : x.eq(\"Critical\").cumsum())\n",
    "\n",
    "#X_test[\"CRITICAL FLAGS PER INSPECTION\"] = \\\n",
    "#X_test.groupby([\"CAMIS\", \"INSPECTION DATE\"])[\"CRITICAL FLAG\"].apply(lambda x : x.eq(\"Critical\").cumsum())\n",
    "\n",
    "nyc_restaurants[\"VIOLATIONS PER INSPECTION\"] = nyc_restaurants.groupby([\"CAMIS\", \"INSPECTION DATE\"]).cumcount()+1\n",
    "\n",
    "#X_test[\"VIOLATIONS PER INSPECTION\"] = X_test.groupby([\"CAMIS\", \"INSPECTION DATE\"]).cumcount()+1"
   ]
  },
  {
   "cell_type": "code",
   "execution_count": 20,
   "id": "c3024b02",
   "metadata": {},
   "outputs": [],
   "source": [
    "max_ids = nyc_restaurants.groupby([\"CAMIS\", \"INSPECTION DATE\"])[\"VIOLATIONS PER INSPECTION\"].idxmax().tolist()\n",
    "\n",
    "nyc_restaurants = nyc_restaurants.iloc[max_ids]\n",
    "# orders df by camis and inspection date"
   ]
  },
  {
   "cell_type": "code",
   "execution_count": 21,
   "id": "33dce740",
   "metadata": {},
   "outputs": [],
   "source": [
    "# avg number of inspection/year\n",
    "total_inspections = nyc_restaurants.groupby([\"CAMIS\"])[\"INSPECTION DATE\"].count()#.tolist()\n",
    "\n",
    "def deltayears(now, birthdate):\n",
    "    rdelta = relativedelta(now, birthdate)\n",
    "    return rdelta.years + 1 #*12 + rdelta.months\n",
    "\n",
    "years_in_data = nyc_restaurants.groupby(\"CAMIS\").apply(lambda x: deltayears(x[\"INSPECTION DATE\"].max(), \n",
    "                                                                            x[\"INSPECTION DATE\"].min())).tolist()\n",
    "\n",
    "# can make into 1 function**\n",
    "def months(now, birthdate):\n",
    "    rdelta = relativedelta(now, birthdate)\n",
    "    return rdelta.years*12 + rdelta.months\n",
    "\n",
    "months_in_data = nyc_restaurants.groupby(\"CAMIS\").apply(lambda x: months(x[\"INSPECTION DATE\"].max(), \n",
    "                                                                         x[\"INSPECTION DATE\"].min())).tolist()\n",
    "\n",
    "# on test data\n",
    "#total_inspections_test = X_test.groupby([\"CAMIS\"])[\"INSPECTION DATE\"].count().tolist()\n",
    "\n",
    "#years_in_data_test = X_test.groupby(\"CAMIS\").apply(lambda x: deltayears(x[\"INSPECTION DATE\"].max(), \n",
    "                                                                        #x[\"INSPECTION DATE\"].min())).tolist()\n",
    "\n",
    "#months_in_data_test = X_test.groupby(\"CAMIS\").apply(lambda x: months(x[\"INSPECTION DATE\"].max(), \n",
    "                                                                     #x[\"INSPECTION DATE\"].min())).tolist()"
   ]
  },
  {
   "cell_type": "code",
   "execution_count": 22,
   "id": "87bea990",
   "metadata": {},
   "outputs": [
    {
     "name": "stderr",
     "output_type": "stream",
     "text": [
      "/var/folders/3r/2gdxtbds6szcszj9bg_tdb_h0000gn/T/ipykernel_43579/147728924.py:1: SettingWithCopyWarning: \n",
      "A value is trying to be set on a copy of a slice from a DataFrame.\n",
      "Try using .loc[row_indexer,col_indexer] = value instead\n",
      "\n",
      "See the caveats in the documentation: https://pandas.pydata.org/pandas-docs/stable/user_guide/indexing.html#returning-a-view-versus-a-copy\n",
      "  nyc_restaurants[\"DAYS SINCE LAST INSPECTION\"] = nyc_restaurants.groupby([\"CAMIS\"])[\"INSPECTION DATE\"].\\\n",
      "/var/folders/3r/2gdxtbds6szcszj9bg_tdb_h0000gn/T/ipykernel_43579/147728924.py:3: SettingWithCopyWarning: \n",
      "A value is trying to be set on a copy of a slice from a DataFrame.\n",
      "Try using .loc[row_indexer,col_indexer] = value instead\n",
      "\n",
      "See the caveats in the documentation: https://pandas.pydata.org/pandas-docs/stable/user_guide/indexing.html#returning-a-view-versus-a-copy\n",
      "  nyc_restaurants[\"DAYS SINCE LAST INSPECTION\"] = nyc_restaurants[\"DAYS SINCE LAST INSPECTION\"].astype(\"str\").\\\n",
      "/var/folders/3r/2gdxtbds6szcszj9bg_tdb_h0000gn/T/ipykernel_43579/147728924.py:5: SettingWithCopyWarning: \n",
      "A value is trying to be set on a copy of a slice from a DataFrame.\n",
      "Try using .loc[row_indexer,col_indexer] = value instead\n",
      "\n",
      "See the caveats in the documentation: https://pandas.pydata.org/pandas-docs/stable/user_guide/indexing.html#returning-a-view-versus-a-copy\n",
      "  nyc_restaurants[\"DAYS SINCE LAST INSPECTION\"] = nyc_restaurants[\"DAYS SINCE LAST INSPECTION\"].astype(\"int\")\n"
     ]
    }
   ],
   "source": [
    "nyc_restaurants[\"DAYS SINCE LAST INSPECTION\"] = nyc_restaurants.groupby([\"CAMIS\"])[\"INSPECTION DATE\"].\\\n",
    "    transform(lambda x: x.diff()).fillna(0)\n",
    "nyc_restaurants[\"DAYS SINCE LAST INSPECTION\"] = nyc_restaurants[\"DAYS SINCE LAST INSPECTION\"].astype(\"str\").\\\n",
    "    str.split(\" \").str[0]\n",
    "nyc_restaurants[\"DAYS SINCE LAST INSPECTION\"] = nyc_restaurants[\"DAYS SINCE LAST INSPECTION\"].astype(\"int\")"
   ]
  },
  {
   "cell_type": "code",
   "execution_count": 23,
   "id": "327bd3c5",
   "metadata": {},
   "outputs": [
    {
     "name": "stderr",
     "output_type": "stream",
     "text": [
      "/var/folders/3r/2gdxtbds6szcszj9bg_tdb_h0000gn/T/ipykernel_43579/3770178492.py:3: SettingWithCopyWarning: \n",
      "A value is trying to be set on a copy of a slice from a DataFrame.\n",
      "Try using .loc[row_indexer,col_indexer] = value instead\n",
      "\n",
      "See the caveats in the documentation: https://pandas.pydata.org/pandas-docs/stable/user_guide/indexing.html#returning-a-view-versus-a-copy\n",
      "  nyc_restaurants[[\"YEAR\", \"MONTH\", \"DAY\"]] = nyc_restaurants[\"INSPECTION DATE\"].astype(\"str\").str.split(\"-\", expand = True)\n",
      "/var/folders/3r/2gdxtbds6szcszj9bg_tdb_h0000gn/T/ipykernel_43579/3770178492.py:3: SettingWithCopyWarning: \n",
      "A value is trying to be set on a copy of a slice from a DataFrame.\n",
      "Try using .loc[row_indexer,col_indexer] = value instead\n",
      "\n",
      "See the caveats in the documentation: https://pandas.pydata.org/pandas-docs/stable/user_guide/indexing.html#returning-a-view-versus-a-copy\n",
      "  nyc_restaurants[[\"YEAR\", \"MONTH\", \"DAY\"]] = nyc_restaurants[\"INSPECTION DATE\"].astype(\"str\").str.split(\"-\", expand = True)\n",
      "/var/folders/3r/2gdxtbds6szcszj9bg_tdb_h0000gn/T/ipykernel_43579/3770178492.py:3: SettingWithCopyWarning: \n",
      "A value is trying to be set on a copy of a slice from a DataFrame.\n",
      "Try using .loc[row_indexer,col_indexer] = value instead\n",
      "\n",
      "See the caveats in the documentation: https://pandas.pydata.org/pandas-docs/stable/user_guide/indexing.html#returning-a-view-versus-a-copy\n",
      "  nyc_restaurants[[\"YEAR\", \"MONTH\", \"DAY\"]] = nyc_restaurants[\"INSPECTION DATE\"].astype(\"str\").str.split(\"-\", expand = True)\n"
     ]
    }
   ],
   "source": [
    "# convert date to day, month, year\n",
    "\n",
    "nyc_restaurants[[\"YEAR\", \"MONTH\", \"DAY\"]] = nyc_restaurants[\"INSPECTION DATE\"].astype(\"str\").str.split(\"-\", expand = True)\n",
    "\n",
    "# year-month-day\n",
    "#X_test[[\"YEAR\", \"MONTH\", \"DAY\"]] = X_test[\"INSPECTION DATE\"].astype(\"str\").str.split(\"-\", expand = True)\n",
    "#X_test = X_test.drop(\"INSPECTION DATE\", axis = 1)"
   ]
  },
  {
   "cell_type": "markdown",
   "id": "3b855c99",
   "metadata": {},
   "source": [
    "### Inspection Level Columns:\n",
    "- Graded\n",
    "- Post Covid\n",
    "- Days Since Last Inspection\n",
    "- Critical Flags/Violations Per Inspection\n",
    "- Score\n",
    "- Inspection Type/Purpose"
   ]
  },
  {
   "cell_type": "code",
   "execution_count": 24,
   "id": "f0998910",
   "metadata": {},
   "outputs": [
    {
     "name": "stdout",
     "output_type": "stream",
     "text": [
      "SCORE   False  True \n",
      "GRADED              \n",
      "0       13602   7410\n",
      "1       34606   1122\n",
      "Series([], Name: count, dtype: float64)\n"
     ]
    }
   ],
   "source": [
    "# graded\n",
    "\n",
    "print(pd.crosstab(nyc_restaurants[\"GRADED\"], nyc_restaurants[\"SCORE\"] >= 28))\n",
    "# scores greater than 28 (C grade) 7x more likely to be ungraded although most inspections graded (some kind of protocool?) \n",
    "# - results maintained up to scores over 100 (37:1 ungraded)\n",
    "\n",
    "#print(nyc_restaurants[\"POST COVID\"].value_counts()/len(nyc_restaurants)*100)\n",
    "# ~80% of inspections occurred after covid\n",
    "filtered_nyc = nyc_restaurants.loc[(nyc_restaurants[\"SCORE\"] > 28) & (nyc_restaurants[\"GRADED\"] == 0)][\"POST COVID\"]\n",
    "print(filtered_nyc.value_counts()/len(filtered_nyc)*100)\n",
    "# ungraded restaurants scoring a C were slightly higher after covid, but not significantly (79.75% vs 85.65%)"
   ]
  },
  {
   "cell_type": "code",
   "execution_count": 25,
   "id": "9fe9f8ce",
   "metadata": {},
   "outputs": [
    {
     "data": {
      "application/vnd.plotly.v1+json": {
       "config": {
        "plotlyServerURL": "https://plot.ly"
       },
       "data": [
        {
         "branchvalues": "total",
         "domain": {
          "x": [
           0,
           1
          ],
          "y": [
           0,
           1
          ]
         },
         "hovertemplate": "labels=%{label}<br>count=%{value}<br>parent=%{parent}<br>id=%{id}<extra></extra>",
         "ids": [
          "Month/May/Pre Covid/1421/51.72%",
          "Month/April/Pre Covid/856/54.32%",
          "Month/March/Post Covid/17854/55.72%",
          "Month/January/Pre Covid/4273/55.75%",
          "Month/March/Pre Covid/3765/55.96%",
          "Month/January/Post Covid/14220/56.1%",
          "Month/August/Pre Covid/2077/56.23%",
          "Month/June/Pre Covid/1948/56.31%",
          "Month/December/Pre Covid/3051/56.41%",
          "Month/February/Pre Covid/5394/56.45%",
          "Month/April/Post Covid/16419/56.82%",
          "Month/February/Post Covid/13916/56.87%",
          "Month/May/Post Covid/17739/56.95%",
          "Month/November/Pre Covid/2860/56.96%",
          "Month/October/Pre Covid/3198/57.6%",
          "Month/December/Post Covid/9504/57.74%",
          "Month/October/Post Covid/8915/57.81%",
          "Month/June/Post Covid/7762/57.99%",
          "Month/September/Pre Covid/2347/58.2%",
          "Month/July/Pre Covid/1422/58.37%",
          "Month/November/Post Covid/10045/58.41%",
          "Month/August/Post Covid/15253/59.76%",
          "Month/July/Post Covid/9963/59.79%",
          "Month/September/Post Covid/9895/60.46%",
          "Month/April/Pre Covid/856",
          "Month/May/Pre Covid/1421",
          "Month/July/Pre Covid/1422",
          "Month/June/Pre Covid/1948",
          "Month/August/Pre Covid/2077",
          "Month/September/Pre Covid/2347",
          "Month/November/Pre Covid/2860",
          "Month/December/Pre Covid/3051",
          "Month/October/Pre Covid/3198",
          "Month/March/Pre Covid/3765",
          "Month/January/Pre Covid/4273",
          "Month/February/Pre Covid/5394",
          "Month/June/Post Covid/7762",
          "Month/October/Post Covid/8915",
          "Month/December/Post Covid/9504",
          "Month/September/Post Covid/9895",
          "Month/July/Post Covid/9963",
          "Month/November/Post Covid/10045",
          "Month/February/Post Covid/13916",
          "Month/January/Post Covid/14220",
          "Month/August/Post Covid/15253",
          "Month/April/Post Covid/16419",
          "Month/May/Post Covid/17739",
          "Month/March/Post Covid/17854",
          "Month/April/Post Covid",
          "Month/August/Post Covid",
          "Month/December/Post Covid",
          "Month/February/Post Covid",
          "Month/January/Post Covid",
          "Month/July/Post Covid",
          "Month/June/Post Covid",
          "Month/March/Post Covid",
          "Month/May/Post Covid",
          "Month/November/Post Covid",
          "Month/October/Post Covid",
          "Month/September/Post Covid",
          "Month/April/Pre Covid",
          "Month/August/Pre Covid",
          "Month/December/Pre Covid",
          "Month/February/Pre Covid",
          "Month/January/Pre Covid",
          "Month/July/Pre Covid",
          "Month/June/Pre Covid",
          "Month/March/Pre Covid",
          "Month/May/Pre Covid",
          "Month/November/Pre Covid",
          "Month/October/Pre Covid",
          "Month/September/Pre Covid",
          "Month/April",
          "Month/August",
          "Month/December",
          "Month/February",
          "Month/January",
          "Month/July",
          "Month/June",
          "Month/March",
          "Month/May",
          "Month/November",
          "Month/October",
          "Month/September",
          "Month"
         ],
         "labels": [
          "51.72%",
          "54.32%",
          "55.72%",
          "55.75%",
          "55.96%",
          "56.1%",
          "56.23%",
          "56.31%",
          "56.41%",
          "56.45%",
          "56.82%",
          "56.87%",
          "56.95%",
          "56.96%",
          "57.6%",
          "57.74%",
          "57.81%",
          "57.99%",
          "58.2%",
          "58.37%",
          "58.41%",
          "59.76%",
          "59.79%",
          "60.46%",
          "856",
          "1421",
          "1422",
          "1948",
          "2077",
          "2347",
          "2860",
          "3051",
          "3198",
          "3765",
          "4273",
          "5394",
          "7762",
          "8915",
          "9504",
          "9895",
          "9963",
          "10045",
          "13916",
          "14220",
          "15253",
          "16419",
          "17739",
          "17854",
          "Post Covid",
          "Post Covid",
          "Post Covid",
          "Post Covid",
          "Post Covid",
          "Post Covid",
          "Post Covid",
          "Post Covid",
          "Post Covid",
          "Post Covid",
          "Post Covid",
          "Post Covid",
          "Pre Covid",
          "Pre Covid",
          "Pre Covid",
          "Pre Covid",
          "Pre Covid",
          "Pre Covid",
          "Pre Covid",
          "Pre Covid",
          "Pre Covid",
          "Pre Covid",
          "Pre Covid",
          "Pre Covid",
          "April",
          "August",
          "December",
          "February",
          "January",
          "July",
          "June",
          "March",
          "May",
          "November",
          "October",
          "September",
          "Month"
         ],
         "name": "",
         "parents": [
          "Month/May/Pre Covid/1421",
          "Month/April/Pre Covid/856",
          "Month/March/Post Covid/17854",
          "Month/January/Pre Covid/4273",
          "Month/March/Pre Covid/3765",
          "Month/January/Post Covid/14220",
          "Month/August/Pre Covid/2077",
          "Month/June/Pre Covid/1948",
          "Month/December/Pre Covid/3051",
          "Month/February/Pre Covid/5394",
          "Month/April/Post Covid/16419",
          "Month/February/Post Covid/13916",
          "Month/May/Post Covid/17739",
          "Month/November/Pre Covid/2860",
          "Month/October/Pre Covid/3198",
          "Month/December/Post Covid/9504",
          "Month/October/Post Covid/8915",
          "Month/June/Post Covid/7762",
          "Month/September/Pre Covid/2347",
          "Month/July/Pre Covid/1422",
          "Month/November/Post Covid/10045",
          "Month/August/Post Covid/15253",
          "Month/July/Post Covid/9963",
          "Month/September/Post Covid/9895",
          "Month/April/Pre Covid",
          "Month/May/Pre Covid",
          "Month/July/Pre Covid",
          "Month/June/Pre Covid",
          "Month/August/Pre Covid",
          "Month/September/Pre Covid",
          "Month/November/Pre Covid",
          "Month/December/Pre Covid",
          "Month/October/Pre Covid",
          "Month/March/Pre Covid",
          "Month/January/Pre Covid",
          "Month/February/Pre Covid",
          "Month/June/Post Covid",
          "Month/October/Post Covid",
          "Month/December/Post Covid",
          "Month/September/Post Covid",
          "Month/July/Post Covid",
          "Month/November/Post Covid",
          "Month/February/Post Covid",
          "Month/January/Post Covid",
          "Month/August/Post Covid",
          "Month/April/Post Covid",
          "Month/May/Post Covid",
          "Month/March/Post Covid",
          "Month/April",
          "Month/August",
          "Month/December",
          "Month/February",
          "Month/January",
          "Month/July",
          "Month/June",
          "Month/March",
          "Month/May",
          "Month/November",
          "Month/October",
          "Month/September",
          "Month/April",
          "Month/August",
          "Month/December",
          "Month/February",
          "Month/January",
          "Month/July",
          "Month/June",
          "Month/March",
          "Month/May",
          "Month/November",
          "Month/October",
          "Month/September",
          "Month",
          "Month",
          "Month",
          "Month",
          "Month",
          "Month",
          "Month",
          "Month",
          "Month",
          "Month",
          "Month",
          "Month",
          ""
         ],
         "type": "treemap",
         "values": [
          1,
          1,
          1,
          1,
          1,
          1,
          1,
          1,
          1,
          1,
          1,
          1,
          1,
          1,
          1,
          1,
          1,
          1,
          1,
          1,
          1,
          1,
          1,
          1,
          1,
          1,
          1,
          1,
          1,
          1,
          1,
          1,
          1,
          1,
          1,
          1,
          1,
          1,
          1,
          1,
          1,
          1,
          1,
          1,
          1,
          1,
          1,
          1,
          1,
          1,
          1,
          1,
          1,
          1,
          1,
          1,
          1,
          1,
          1,
          1,
          1,
          1,
          1,
          1,
          1,
          1,
          1,
          1,
          1,
          1,
          1,
          1,
          2,
          2,
          2,
          2,
          2,
          2,
          2,
          2,
          2,
          2,
          2,
          2,
          24
         ]
        }
       ],
       "layout": {
        "annotations": [
         {
          "showarrow": false,
          "text": "*Percentage = Percentage of Violations Labeled Critical",
          "x": 0.5,
          "y": -0.05
         }
        ],
        "legend": {
         "tracegroupgap": 0
        },
        "template": {
         "data": {
          "bar": [
           {
            "error_x": {
             "color": "#2a3f5f"
            },
            "error_y": {
             "color": "#2a3f5f"
            },
            "marker": {
             "line": {
              "color": "#E5ECF6",
              "width": 0.5
             },
             "pattern": {
              "fillmode": "overlay",
              "size": 10,
              "solidity": 0.2
             }
            },
            "type": "bar"
           }
          ],
          "barpolar": [
           {
            "marker": {
             "line": {
              "color": "#E5ECF6",
              "width": 0.5
             },
             "pattern": {
              "fillmode": "overlay",
              "size": 10,
              "solidity": 0.2
             }
            },
            "type": "barpolar"
           }
          ],
          "carpet": [
           {
            "aaxis": {
             "endlinecolor": "#2a3f5f",
             "gridcolor": "white",
             "linecolor": "white",
             "minorgridcolor": "white",
             "startlinecolor": "#2a3f5f"
            },
            "baxis": {
             "endlinecolor": "#2a3f5f",
             "gridcolor": "white",
             "linecolor": "white",
             "minorgridcolor": "white",
             "startlinecolor": "#2a3f5f"
            },
            "type": "carpet"
           }
          ],
          "choropleth": [
           {
            "colorbar": {
             "outlinewidth": 0,
             "ticks": ""
            },
            "type": "choropleth"
           }
          ],
          "contour": [
           {
            "colorbar": {
             "outlinewidth": 0,
             "ticks": ""
            },
            "colorscale": [
             [
              0,
              "#0d0887"
             ],
             [
              0.1111111111111111,
              "#46039f"
             ],
             [
              0.2222222222222222,
              "#7201a8"
             ],
             [
              0.3333333333333333,
              "#9c179e"
             ],
             [
              0.4444444444444444,
              "#bd3786"
             ],
             [
              0.5555555555555556,
              "#d8576b"
             ],
             [
              0.6666666666666666,
              "#ed7953"
             ],
             [
              0.7777777777777778,
              "#fb9f3a"
             ],
             [
              0.8888888888888888,
              "#fdca26"
             ],
             [
              1,
              "#f0f921"
             ]
            ],
            "type": "contour"
           }
          ],
          "contourcarpet": [
           {
            "colorbar": {
             "outlinewidth": 0,
             "ticks": ""
            },
            "type": "contourcarpet"
           }
          ],
          "heatmap": [
           {
            "colorbar": {
             "outlinewidth": 0,
             "ticks": ""
            },
            "colorscale": [
             [
              0,
              "#0d0887"
             ],
             [
              0.1111111111111111,
              "#46039f"
             ],
             [
              0.2222222222222222,
              "#7201a8"
             ],
             [
              0.3333333333333333,
              "#9c179e"
             ],
             [
              0.4444444444444444,
              "#bd3786"
             ],
             [
              0.5555555555555556,
              "#d8576b"
             ],
             [
              0.6666666666666666,
              "#ed7953"
             ],
             [
              0.7777777777777778,
              "#fb9f3a"
             ],
             [
              0.8888888888888888,
              "#fdca26"
             ],
             [
              1,
              "#f0f921"
             ]
            ],
            "type": "heatmap"
           }
          ],
          "heatmapgl": [
           {
            "colorbar": {
             "outlinewidth": 0,
             "ticks": ""
            },
            "colorscale": [
             [
              0,
              "#0d0887"
             ],
             [
              0.1111111111111111,
              "#46039f"
             ],
             [
              0.2222222222222222,
              "#7201a8"
             ],
             [
              0.3333333333333333,
              "#9c179e"
             ],
             [
              0.4444444444444444,
              "#bd3786"
             ],
             [
              0.5555555555555556,
              "#d8576b"
             ],
             [
              0.6666666666666666,
              "#ed7953"
             ],
             [
              0.7777777777777778,
              "#fb9f3a"
             ],
             [
              0.8888888888888888,
              "#fdca26"
             ],
             [
              1,
              "#f0f921"
             ]
            ],
            "type": "heatmapgl"
           }
          ],
          "histogram": [
           {
            "marker": {
             "pattern": {
              "fillmode": "overlay",
              "size": 10,
              "solidity": 0.2
             }
            },
            "type": "histogram"
           }
          ],
          "histogram2d": [
           {
            "colorbar": {
             "outlinewidth": 0,
             "ticks": ""
            },
            "colorscale": [
             [
              0,
              "#0d0887"
             ],
             [
              0.1111111111111111,
              "#46039f"
             ],
             [
              0.2222222222222222,
              "#7201a8"
             ],
             [
              0.3333333333333333,
              "#9c179e"
             ],
             [
              0.4444444444444444,
              "#bd3786"
             ],
             [
              0.5555555555555556,
              "#d8576b"
             ],
             [
              0.6666666666666666,
              "#ed7953"
             ],
             [
              0.7777777777777778,
              "#fb9f3a"
             ],
             [
              0.8888888888888888,
              "#fdca26"
             ],
             [
              1,
              "#f0f921"
             ]
            ],
            "type": "histogram2d"
           }
          ],
          "histogram2dcontour": [
           {
            "colorbar": {
             "outlinewidth": 0,
             "ticks": ""
            },
            "colorscale": [
             [
              0,
              "#0d0887"
             ],
             [
              0.1111111111111111,
              "#46039f"
             ],
             [
              0.2222222222222222,
              "#7201a8"
             ],
             [
              0.3333333333333333,
              "#9c179e"
             ],
             [
              0.4444444444444444,
              "#bd3786"
             ],
             [
              0.5555555555555556,
              "#d8576b"
             ],
             [
              0.6666666666666666,
              "#ed7953"
             ],
             [
              0.7777777777777778,
              "#fb9f3a"
             ],
             [
              0.8888888888888888,
              "#fdca26"
             ],
             [
              1,
              "#f0f921"
             ]
            ],
            "type": "histogram2dcontour"
           }
          ],
          "mesh3d": [
           {
            "colorbar": {
             "outlinewidth": 0,
             "ticks": ""
            },
            "type": "mesh3d"
           }
          ],
          "parcoords": [
           {
            "line": {
             "colorbar": {
              "outlinewidth": 0,
              "ticks": ""
             }
            },
            "type": "parcoords"
           }
          ],
          "pie": [
           {
            "automargin": true,
            "type": "pie"
           }
          ],
          "scatter": [
           {
            "fillpattern": {
             "fillmode": "overlay",
             "size": 10,
             "solidity": 0.2
            },
            "type": "scatter"
           }
          ],
          "scatter3d": [
           {
            "line": {
             "colorbar": {
              "outlinewidth": 0,
              "ticks": ""
             }
            },
            "marker": {
             "colorbar": {
              "outlinewidth": 0,
              "ticks": ""
             }
            },
            "type": "scatter3d"
           }
          ],
          "scattercarpet": [
           {
            "marker": {
             "colorbar": {
              "outlinewidth": 0,
              "ticks": ""
             }
            },
            "type": "scattercarpet"
           }
          ],
          "scattergeo": [
           {
            "marker": {
             "colorbar": {
              "outlinewidth": 0,
              "ticks": ""
             }
            },
            "type": "scattergeo"
           }
          ],
          "scattergl": [
           {
            "marker": {
             "colorbar": {
              "outlinewidth": 0,
              "ticks": ""
             }
            },
            "type": "scattergl"
           }
          ],
          "scattermapbox": [
           {
            "marker": {
             "colorbar": {
              "outlinewidth": 0,
              "ticks": ""
             }
            },
            "type": "scattermapbox"
           }
          ],
          "scatterpolar": [
           {
            "marker": {
             "colorbar": {
              "outlinewidth": 0,
              "ticks": ""
             }
            },
            "type": "scatterpolar"
           }
          ],
          "scatterpolargl": [
           {
            "marker": {
             "colorbar": {
              "outlinewidth": 0,
              "ticks": ""
             }
            },
            "type": "scatterpolargl"
           }
          ],
          "scatterternary": [
           {
            "marker": {
             "colorbar": {
              "outlinewidth": 0,
              "ticks": ""
             }
            },
            "type": "scatterternary"
           }
          ],
          "surface": [
           {
            "colorbar": {
             "outlinewidth": 0,
             "ticks": ""
            },
            "colorscale": [
             [
              0,
              "#0d0887"
             ],
             [
              0.1111111111111111,
              "#46039f"
             ],
             [
              0.2222222222222222,
              "#7201a8"
             ],
             [
              0.3333333333333333,
              "#9c179e"
             ],
             [
              0.4444444444444444,
              "#bd3786"
             ],
             [
              0.5555555555555556,
              "#d8576b"
             ],
             [
              0.6666666666666666,
              "#ed7953"
             ],
             [
              0.7777777777777778,
              "#fb9f3a"
             ],
             [
              0.8888888888888888,
              "#fdca26"
             ],
             [
              1,
              "#f0f921"
             ]
            ],
            "type": "surface"
           }
          ],
          "table": [
           {
            "cells": {
             "fill": {
              "color": "#EBF0F8"
             },
             "line": {
              "color": "white"
             }
            },
            "header": {
             "fill": {
              "color": "#C8D4E3"
             },
             "line": {
              "color": "white"
             }
            },
            "type": "table"
           }
          ]
         },
         "layout": {
          "annotationdefaults": {
           "arrowcolor": "#2a3f5f",
           "arrowhead": 0,
           "arrowwidth": 1
          },
          "autotypenumbers": "strict",
          "coloraxis": {
           "colorbar": {
            "outlinewidth": 0,
            "ticks": ""
           }
          },
          "colorscale": {
           "diverging": [
            [
             0,
             "#8e0152"
            ],
            [
             0.1,
             "#c51b7d"
            ],
            [
             0.2,
             "#de77ae"
            ],
            [
             0.3,
             "#f1b6da"
            ],
            [
             0.4,
             "#fde0ef"
            ],
            [
             0.5,
             "#f7f7f7"
            ],
            [
             0.6,
             "#e6f5d0"
            ],
            [
             0.7,
             "#b8e186"
            ],
            [
             0.8,
             "#7fbc41"
            ],
            [
             0.9,
             "#4d9221"
            ],
            [
             1,
             "#276419"
            ]
           ],
           "sequential": [
            [
             0,
             "#0d0887"
            ],
            [
             0.1111111111111111,
             "#46039f"
            ],
            [
             0.2222222222222222,
             "#7201a8"
            ],
            [
             0.3333333333333333,
             "#9c179e"
            ],
            [
             0.4444444444444444,
             "#bd3786"
            ],
            [
             0.5555555555555556,
             "#d8576b"
            ],
            [
             0.6666666666666666,
             "#ed7953"
            ],
            [
             0.7777777777777778,
             "#fb9f3a"
            ],
            [
             0.8888888888888888,
             "#fdca26"
            ],
            [
             1,
             "#f0f921"
            ]
           ],
           "sequentialminus": [
            [
             0,
             "#0d0887"
            ],
            [
             0.1111111111111111,
             "#46039f"
            ],
            [
             0.2222222222222222,
             "#7201a8"
            ],
            [
             0.3333333333333333,
             "#9c179e"
            ],
            [
             0.4444444444444444,
             "#bd3786"
            ],
            [
             0.5555555555555556,
             "#d8576b"
            ],
            [
             0.6666666666666666,
             "#ed7953"
            ],
            [
             0.7777777777777778,
             "#fb9f3a"
            ],
            [
             0.8888888888888888,
             "#fdca26"
            ],
            [
             1,
             "#f0f921"
            ]
           ]
          },
          "colorway": [
           "#636efa",
           "#EF553B",
           "#00cc96",
           "#ab63fa",
           "#FFA15A",
           "#19d3f3",
           "#FF6692",
           "#B6E880",
           "#FF97FF",
           "#FECB52"
          ],
          "font": {
           "color": "#2a3f5f"
          },
          "geo": {
           "bgcolor": "white",
           "lakecolor": "white",
           "landcolor": "#E5ECF6",
           "showlakes": true,
           "showland": true,
           "subunitcolor": "white"
          },
          "hoverlabel": {
           "align": "left"
          },
          "hovermode": "closest",
          "mapbox": {
           "style": "light"
          },
          "paper_bgcolor": "white",
          "plot_bgcolor": "#E5ECF6",
          "polar": {
           "angularaxis": {
            "gridcolor": "white",
            "linecolor": "white",
            "ticks": ""
           },
           "bgcolor": "#E5ECF6",
           "radialaxis": {
            "gridcolor": "white",
            "linecolor": "white",
            "ticks": ""
           }
          },
          "scene": {
           "xaxis": {
            "backgroundcolor": "#E5ECF6",
            "gridcolor": "white",
            "gridwidth": 2,
            "linecolor": "white",
            "showbackground": true,
            "ticks": "",
            "zerolinecolor": "white"
           },
           "yaxis": {
            "backgroundcolor": "#E5ECF6",
            "gridcolor": "white",
            "gridwidth": 2,
            "linecolor": "white",
            "showbackground": true,
            "ticks": "",
            "zerolinecolor": "white"
           },
           "zaxis": {
            "backgroundcolor": "#E5ECF6",
            "gridcolor": "white",
            "gridwidth": 2,
            "linecolor": "white",
            "showbackground": true,
            "ticks": "",
            "zerolinecolor": "white"
           }
          },
          "shapedefaults": {
           "line": {
            "color": "#2a3f5f"
           }
          },
          "ternary": {
           "aaxis": {
            "gridcolor": "white",
            "linecolor": "white",
            "ticks": ""
           },
           "baxis": {
            "gridcolor": "white",
            "linecolor": "white",
            "ticks": ""
           },
           "bgcolor": "#E5ECF6",
           "caxis": {
            "gridcolor": "white",
            "linecolor": "white",
            "ticks": ""
           }
          },
          "title": {
           "x": 0.05
          },
          "xaxis": {
           "automargin": true,
           "gridcolor": "white",
           "linecolor": "white",
           "ticks": "",
           "title": {
            "standoff": 15
           },
           "zerolinecolor": "white",
           "zerolinewidth": 2
          },
          "yaxis": {
           "automargin": true,
           "gridcolor": "white",
           "linecolor": "white",
           "ticks": "",
           "title": {
            "standoff": 15
           },
           "zerolinecolor": "white",
           "zerolinewidth": 2
          }
         }
        },
        "title": {
         "text": "Monthly Violations Pre and Post Covid"
        }
       }
      }
     },
     "metadata": {},
     "output_type": "display_data"
    }
   ],
   "source": [
    "# Post Covid\n",
    "\n",
    "#x = X_train[\"MONTH\"], y = X_train[\"VIOLATIONS PER INSPECTION\"]\n",
    "# Treemap of month: sized by violations per month (total), then broken down by crit and non crit violations\n",
    "flags = nyc_restaurants.groupby([\"MONTH\", \"POST COVID\"])[[\"CRITICAL FLAGS PER INSPECTION\", \"VIOLATIONS PER INSPECTION\"]].sum()\n",
    "flags = flags.reset_index()\n",
    "flags.MONTH = flags.MONTH.astype(\"int\").apply(lambda x: calendar.month_name[x])\n",
    "flags = flags.replace({\"0\":\"Pre Covid\", \"1\":\"Post Covid\"})\n",
    "flags[\"PERCENT CRITICAL\"] = np.round(flags[\"CRITICAL FLAGS PER INSPECTION\"]/\n",
    "                                     flags[\"VIOLATIONS PER INSPECTION\"]*100, 2).astype(\"str\")+\"%\"\n",
    "\n",
    "#flags[[\"CRITICAL FLAGS PER INSPECTION\", \"VIOLATIONS PER INSPECTION\"]] = \n",
    "#np.round(flags[[\"CRITICAL FLAGS PER INSPECTION\", \"VIOLATIONS PER INSPECTION\"]] / \n",
    "#         flags[[\"CRITICAL FLAGS PER INSPECTION\", \"VIOLATIONS PER INSPECTION\"]].sum() * 100, 2)\n",
    "\n",
    "violation_treemap = px.treemap(flags, path = [px.Constant(\"Month\"), \"MONTH\", \"POST COVID\", \n",
    "                                              \"VIOLATIONS PER INSPECTION\", \"PERCENT CRITICAL\"], \n",
    "                                              title = \"Monthly Violations Pre and Post Covid\")\n",
    "#values = \"VIOLATIONS PER INSPECTION\", \n",
    "violation_treemap.update_layout(annotations = [(dict(x = 0.5, y = -0.05, showarrow = False, \n",
    "                                                     text = \"*Percentage = Percentage of Violations Labeled Critical\"))])\n",
    "\n",
    "#violation_treemap.write_image(file = PATH + \"Results/covid effect on violations.png\", format = \"png\")\n",
    "# not used for altered formatting (lose critical flag count) - saved manually"
   ]
  },
  {
   "cell_type": "code",
   "execution_count": 26,
   "id": "095fbfde",
   "metadata": {},
   "outputs": [
    {
     "data": {
      "image/png": "[encoded data removed]",
      "text/plain": [
       "<Figure size 800x800 with 1 Axes>"
      ]
     },
     "metadata": {},
     "output_type": "display_data"
    }
   ],
   "source": [
    "plt.figure(figsize=(8, 8))\n",
    "plt.hist(nyc_restaurants[\"DAYS SINCE LAST INSPECTION\"], bins = 37)\n",
    "plt.xlabel(\"Days\")\n",
    "plt.ylabel(\"Count\")\n",
    "plt.title(\"Days Since Last Inspection\")\n",
    "plt.axvline(365, color = \"black\")\n",
    "plt.text(375, 22000, \"One Year\")\n",
    "plt.axvline(730, color = \"black\")\n",
    "plt.text(740, 22000, \"Two Years\")\n",
    "#plt.savefig(\"Results/last inspection.png\")\n",
    "plt.show()"
   ]
  },
  {
   "cell_type": "code",
   "execution_count": 27,
   "id": "e8bada51",
   "metadata": {},
   "outputs": [],
   "source": [
    "total_violations = nyc_restaurants.groupby(\"CAMIS\")[\"VIOLATIONS PER INSPECTION\"].aggregate(\"sum\")\n",
    "total_critical_flags = nyc_restaurants.groupby(\"CAMIS\")[\"CRITICAL FLAGS PER INSPECTION\"].aggregate(\"sum\")\n",
    "avg_score = nyc_restaurants.groupby(\"CAMIS\")[\"SCORE\"].aggregate(\"sum\")/total_inspections"
   ]
  },
  {
   "cell_type": "markdown",
   "id": "72f1568f",
   "metadata": {},
   "source": [
    "### Select Single Instance of Restaurant"
   ]
  },
  {
   "cell_type": "code",
   "execution_count": 28,
   "id": "a72bfd71",
   "metadata": {},
   "outputs": [
    {
     "data": {
      "text/plain": [
       "CAMIS\n",
       "30075445    1\n",
       "50090854    1\n",
       "50090847    1\n",
       "50090846    1\n",
       "50090843    1\n",
       "           ..\n",
       "50006582    1\n",
       "50006574    1\n",
       "50006556    1\n",
       "50006550    1\n",
       "50136989    1\n",
       "Name: count, Length: 23536, dtype: int64"
      ]
     },
     "execution_count": 28,
     "metadata": {},
     "output_type": "execute_result"
    }
   ],
   "source": [
    "nyc_restaurants = nyc_restaurants.groupby([\"CAMIS\"]).apply(lambda x: x.sample(1, random_state = SEED)).reset_index(drop = True)\n",
    "nyc_restaurants[\"CAMIS\"].value_counts()\n",
    "#X_test = X_test.loc[X_test.groupby([\"CAMIS\", \"INSPECTION DATE\"])[\"VIOLATIONS PER INSPECTION\"].idxmax()]"
   ]
  },
  {
   "cell_type": "code",
   "execution_count": 29,
   "id": "e958326e",
   "metadata": {},
   "outputs": [
    {
     "data": {
      "text/plain": [
       "DBA\n",
       "DUNKIN                         375\n",
       "STARBUCKS                      208\n",
       "SUBWAY                         188\n",
       "MCDONALD'S                     167\n",
       "POPEYES                        108\n",
       "                              ... \n",
       "FRUITTI YUMMI FROZEN YOGURT      1\n",
       "LAND-O-FUN                       1\n",
       "TOSHKENT RESTAURANT              1\n",
       "CONDE NAST                       1\n",
       "HOT SPOT GRILL & JERK            1\n",
       "Name: count, Length: 18906, dtype: int64"
      ]
     },
     "execution_count": 29,
     "metadata": {},
     "output_type": "execute_result"
    }
   ],
   "source": [
    "nyc_restaurants[\"DBA\"].value_counts()"
   ]
  },
  {
   "cell_type": "code",
   "execution_count": 30,
   "id": "ec075376",
   "metadata": {},
   "outputs": [],
   "source": [
    "# if number inspections > 3*number of years == high risk/many inspections\n",
    "# does not account for restaurant with many inspections one year but improves overtime\n",
    "\n",
    "years_array = np.array(years_in_data)\n",
    "years_array = years_array * 3\n",
    "max_inspections = years_array.tolist()\n",
    "\n",
    "nyc_restaurants[\"TOTAL INSPECTIONS\"] = total_inspections.tolist()\n",
    "nyc_restaurants[\"RISKY BUSINESS\"] = \"0\"\n",
    "nyc_restaurants.loc[nyc_restaurants[\"TOTAL INSPECTIONS\"] > max_inspections, \"RISKY BUSINESS\"] = \"1\"\n",
    "nyc_restaurants[\"MONTHS OPERATING\"] = months_in_data\n",
    "\n",
    "\n",
    "#years_array_test = np.array(years_in_data_test)\n",
    "#years_array_test = years_array_test * 3\n",
    "#max_inspections_test = years_array_test.tolist()\n",
    "\n",
    "#X_test[\"TOTAL INSPECTIONS\"] = total_inspections_test\n",
    "#X_test[\"RISKY BUSINESS\"] = \"0\"\n",
    "#X_test.loc[X_test[\"TOTAL INSPECTIONS\"] > max_inspections_test, \"RISKY BUSINESS\"] = \"1\"\n",
    "#X_test[\"MONTHS OPERATING\"] = months_in_data_test\n",
    "\n",
    "# drop critical flag\n",
    "# X_train = X_train.drop(\"CRITICAL FLAG\", axis = 1)\n",
    "# X_test = X_test.drop(\"CRITICAL FLAG\", axis = 1)"
   ]
  },
  {
   "cell_type": "code",
   "execution_count": 31,
   "id": "b8d69c9a",
   "metadata": {},
   "outputs": [],
   "source": [
    "nyc_restaurants[\"AVERAGE VIOLATIONS\"] = round((total_violations / total_inspections), 0).astype(\"int\").tolist()\n",
    "nyc_restaurants[\"AVERAGE CRITICAL FLAGS\"] = round((total_critical_flags / total_inspections), 0).astype(\"int\").tolist()\n",
    "nyc_restaurants[\"AVERAGE SCORE\"] = round((nyc_restaurants.groupby(\"CAMIS\")[\"SCORE\"].aggregate(\"sum\")/total_inspections), \n",
    "                                         0).astype(\"int\").tolist()"
   ]
  },
  {
   "cell_type": "markdown",
   "id": "6e12d1f3",
   "metadata": {},
   "source": [
    "### Train Test Split"
   ]
  },
  {
   "cell_type": "code",
   "execution_count": 32,
   "id": "8b725459",
   "metadata": {},
   "outputs": [],
   "source": [
    "X = nyc_restaurants.drop([\"GRADED\"], axis = 1)\n",
    "y = nyc_restaurants[\"GRADED\"]\n",
    "\n",
    "\n",
    "seed(SEED)\n",
    "ids = nyc_restaurants.CAMIS.tolist()\n",
    "k = int(np.ceil(len(ids)*.7))\n",
    "train_ids = sample(ids, k)"
   ]
  },
  {
   "cell_type": "code",
   "execution_count": 33,
   "id": "73f86224",
   "metadata": {},
   "outputs": [],
   "source": [
    "lst = []\n",
    "[lst.append(np.where(X[\"CAMIS\"] == x)[0].tolist()) for x in train_ids]\n",
    "lst\n",
    "\n",
    "# flatten list\n",
    "def flatten_list(l):\n",
    "    return [item for row in l for item in row]\n",
    "\n",
    "train_indexes = flatten_list(lst)\n",
    "\n",
    "X_train = X.iloc[train_indexes]\n",
    "#131174/187609*100 \n",
    "# ~70% of data (69.92%)\n",
    "\n",
    "y_train = y.iloc[train_indexes]\n",
    "\n",
    "X_test = X.drop(train_indexes, axis = 0)\n",
    "y_test = y.drop(train_indexes, axis = 0)\n",
    "\n",
    "X_train = X_train.reset_index(drop = True)\n",
    "X_test = X_test.reset_index(drop = True)\n",
    "y_train = y_train.reset_index(drop = True)\n",
    "y_test = y_test.reset_index(drop = True)"
   ]
  },
  {
   "cell_type": "code",
   "execution_count": 34,
   "id": "160231dd",
   "metadata": {},
   "outputs": [
    {
     "data": {
      "text/plain": [
       "70.00339904826649"
      ]
     },
     "execution_count": 34,
     "metadata": {},
     "output_type": "execute_result"
    }
   ],
   "source": [
    "(len(X_train)/len(X))*100"
   ]
  },
  {
   "cell_type": "code",
   "execution_count": 35,
   "id": "a6713def",
   "metadata": {},
   "outputs": [
    {
     "data": {
      "text/plain": [
       "GRADED\n",
       "1    8467\n",
       "0    8009\n",
       "Name: count, dtype: int64"
      ]
     },
     "execution_count": 35,
     "metadata": {},
     "output_type": "execute_result"
    }
   ],
   "source": [
    "y_train.value_counts()"
   ]
  },
  {
   "cell_type": "code",
   "execution_count": 36,
   "id": "701dd52c",
   "metadata": {},
   "outputs": [
    {
     "data": {
      "text/plain": [
       "0        0\n",
       "1        0\n",
       "2        0\n",
       "3        0\n",
       "4        0\n",
       "        ..\n",
       "16471    0\n",
       "16472    0\n",
       "16473    0\n",
       "16474    0\n",
       "16475    0\n",
       "Name: RISKY BUSINESS, Length: 16476, dtype: object"
      ]
     },
     "execution_count": 36,
     "metadata": {},
     "output_type": "execute_result"
    }
   ],
   "source": [
    "X_train[\"RISKY BUSINESS\"]"
   ]
  },
  {
   "cell_type": "code",
   "execution_count": 37,
   "id": "4fec8577",
   "metadata": {},
   "outputs": [
    {
     "data": {
      "image/png": "[encoded data removed]",
      "text/plain": [
       "<Figure size 640x480 with 1 Axes>"
      ]
     },
     "metadata": {},
     "output_type": "display_data"
    }
   ],
   "source": [
    "sns.histplot(y_train.sort_values(), label = \"Train\")\n",
    "sns.histplot(y_test.sort_values(), label = \"Test\")\n",
    "plt.title(\"Distribution of Risk Classification in Train and Test Set\")\n",
    "#plt.savefig(\"Results/train test risk.png\")\n",
    "plt.show()"
   ]
  },
  {
   "cell_type": "markdown",
   "id": "6bf63987",
   "metadata": {},
   "source": [
    "### Update y_train and y_test indexes"
   ]
  },
  {
   "cell_type": "code",
   "execution_count": 38,
   "id": "ce195d03",
   "metadata": {},
   "outputs": [],
   "source": [
    "#X_train = X_train.dropna()\n",
    "#X_test = X_test.dropna()\n",
    "\n",
    "train_index = X_train.index\n",
    "test_index = X_test.index\n",
    "\n",
    "y_train = y_train.iloc[train_index]\n",
    "y_test = y_test.iloc[test_index]"
   ]
  },
  {
   "cell_type": "code",
   "execution_count": 39,
   "id": "9675e5cd",
   "metadata": {},
   "outputs": [
    {
     "data": {
      "image/png": "[encoded data removed]",
      "text/plain": [
       "<Figure size 640x480 with 1 Axes>"
      ]
     },
     "metadata": {},
     "output_type": "display_data"
    }
   ],
   "source": [
    "sns.histplot(X_train[\"BORO\"], label = \"Train\")\n",
    "sns.histplot(X_test[\"BORO\"], label = \"Test\").set(title = \"Borough Histogram of Train and Test\")\n",
    "plt.legend()\n",
    "plt.show()"
   ]
  },
  {
   "cell_type": "code",
   "execution_count": 40,
   "id": "3cff25bc",
   "metadata": {},
   "outputs": [
    {
     "data": {
      "text/html": [
       "<div>\n",
       "<style scoped>\n",
       "    .dataframe tbody tr th:only-of-type {\n",
       "        vertical-align: middle;\n",
       "    }\n",
       "\n",
       "    .dataframe tbody tr th {\n",
       "        vertical-align: top;\n",
       "    }\n",
       "\n",
       "    .dataframe thead th {\n",
       "        text-align: right;\n",
       "    }\n",
       "</style>\n",
       "<table border=\"1\" class=\"dataframe\">\n",
       "  <thead>\n",
       "    <tr style=\"text-align: right;\">\n",
       "      <th></th>\n",
       "      <th>SCORE</th>\n",
       "    </tr>\n",
       "    <tr>\n",
       "      <th>BORO</th>\n",
       "      <th></th>\n",
       "    </tr>\n",
       "  </thead>\n",
       "  <tbody>\n",
       "    <tr>\n",
       "      <th>Bronx</th>\n",
       "      <td>16.57</td>\n",
       "    </tr>\n",
       "    <tr>\n",
       "      <th>Brooklyn</th>\n",
       "      <td>17.16</td>\n",
       "    </tr>\n",
       "    <tr>\n",
       "      <th>Manhattan</th>\n",
       "      <td>16.22</td>\n",
       "    </tr>\n",
       "    <tr>\n",
       "      <th>Queens</th>\n",
       "      <td>16.98</td>\n",
       "    </tr>\n",
       "    <tr>\n",
       "      <th>Staten Island</th>\n",
       "      <td>15.12</td>\n",
       "    </tr>\n",
       "  </tbody>\n",
       "</table>\n",
       "</div>"
      ],
      "text/plain": [
       "               SCORE\n",
       "BORO                \n",
       "Bronx          16.57\n",
       "Brooklyn       17.16\n",
       "Manhattan      16.22\n",
       "Queens         16.98\n",
       "Staten Island  15.12"
      ]
     },
     "execution_count": 40,
     "metadata": {},
     "output_type": "execute_result"
    }
   ],
   "source": [
    "round(X_train[[\"BORO\", \"SCORE\"]].groupby(\"BORO\").mean(), 2)"
   ]
  },
  {
   "cell_type": "markdown",
   "id": "9a88f43e",
   "metadata": {},
   "source": [
    "### Select Most Common Cuisines"
   ]
  },
  {
   "cell_type": "code",
   "execution_count": 41,
   "id": "0e52b51e",
   "metadata": {},
   "outputs": [
    {
     "data": {
      "text/plain": [
       "CUISINE DESCRIPTION\n",
       "American                    3104\n",
       "Chinese                     1388\n",
       "Coffee/Tea                  1200\n",
       "Pizza                       1036\n",
       "Italian                      664\n",
       "Mexican                      622\n",
       "Japanese                     591\n",
       "Latin American               554\n",
       "Bakery Products/Desserts     552\n",
       "Caribbean                    481\n",
       "Name: count, dtype: int64"
      ]
     },
     "execution_count": 41,
     "metadata": {},
     "output_type": "execute_result"
    }
   ],
   "source": [
    "#X_train[\"CUISINE DESCRIPTION\"].value_counts().head(30)\n",
    "#np.where(X_train[\"CUISINE DESCRIPTION\"].value_counts() > 500)\n",
    "top_cuisines = X_train[\"CUISINE DESCRIPTION\"].value_counts().iloc[0:10]\n",
    "top_cuisines"
   ]
  },
  {
   "cell_type": "code",
   "execution_count": 42,
   "id": "6384b257",
   "metadata": {},
   "outputs": [
    {
     "name": "stderr",
     "output_type": "stream",
     "text": [
      "/var/folders/3r/2gdxtbds6szcszj9bg_tdb_h0000gn/T/ipykernel_43579/1656742108.py:2: FutureWarning:\n",
      "\n",
      "Series.__getitem__ treating keys as positions is deprecated. In a future version, integer keys will always be treated as labels (consistent with DataFrame behavior). To access a value by position, use `ser.iloc[pos]`\n",
      "\n"
     ]
    }
   ],
   "source": [
    "all_cuisines = X_train[\"CUISINE DESCRIPTION\"].unique()\n",
    "np.setdiff1d(X_train[\"CUISINE DESCRIPTION\"].unique(), top_cuisines[0])\n",
    "all_cuisines = all_cuisines[np.isin(all_cuisines, top_cuisines.axes) == False].tolist()\n",
    "X_train[\"CUISINE DESCRIPTION\"] = X_train[\"CUISINE DESCRIPTION\"].replace(all_cuisines, \"Other\")\n",
    "\n",
    "X_test[\"CUISINE DESCRIPTION\"] = X_test[\"CUISINE DESCRIPTION\"].replace(all_cuisines, \"Other\")"
   ]
  },
  {
   "cell_type": "code",
   "execution_count": 43,
   "id": "45754954",
   "metadata": {},
   "outputs": [],
   "source": [
    "#X_test[\"CUISINE DESCRIPTION\"].value_counts()\n",
    "other_cuisines = [\"Iranian\", \"Basque\"]\n",
    "X_test[\"CUISINE DESCRIPTION\"] = X_test[\"CUISINE DESCRIPTION\"].replace(other_cuisines, \"Other\")"
   ]
  },
  {
   "cell_type": "code",
   "execution_count": 44,
   "id": "b15b396a",
   "metadata": {},
   "outputs": [],
   "source": [
    "#X_train.loc[X_train[\"CAMIS\"] == 30075445][[\"INSPECTION DATE\", \"CRITICAL FLAG\", \n",
    "# \"CRITICAL FLAGS PER INSPECTION\", \"VIOLATIONS PER INSPECTION\"]]"
   ]
  },
  {
   "cell_type": "code",
   "execution_count": 45,
   "id": "7c4aacd8",
   "metadata": {},
   "outputs": [],
   "source": [
    "#X_train[\"CAMIS\"].value_counts()"
   ]
  },
  {
   "cell_type": "code",
   "execution_count": 46,
   "id": "7e7b901a",
   "metadata": {},
   "outputs": [
    {
     "data": {
      "text/plain": [
       "ZIPCODE\n",
       "10019.0    414\n",
       "10003.0    381\n",
       "10036.0    367\n",
       "10001.0    327\n",
       "10013.0    305\n",
       "          ... \n",
       "11241.0      1\n",
       "11371.0      1\n",
       "10168.0      1\n",
       "10171.0      1\n",
       "11242.0      1\n",
       "Name: count, Length: 209, dtype: int64"
      ]
     },
     "execution_count": 46,
     "metadata": {},
     "output_type": "execute_result"
    }
   ],
   "source": [
    "X_train.ZIPCODE.value_counts()\n",
    "# 213 unique\n",
    "# drop zipcodes and use coordinates (inconsistent - some restaurants listed in multiple zipcodes)"
   ]
  },
  {
   "cell_type": "code",
   "execution_count": 47,
   "id": "d4221c8d",
   "metadata": {},
   "outputs": [],
   "source": [
    "#X_test[\"INSPECTION TYPE\"].value_counts()"
   ]
  },
  {
   "cell_type": "code",
   "execution_count": 48,
   "id": "defdd5cd",
   "metadata": {},
   "outputs": [],
   "source": [
    "# check phone\n",
    "\n",
    "# [number[0:3] for number in X_train.PHONE]\n",
    "# X_train.PHONE.value_counts()\n",
    "\n",
    "# X_train.loc[X_train[\"PHONE\"] == \"9172843260\"]\n",
    "# some businesses share phone number (ie. food stands, chains (2126159700 for Starbucks))"
   ]
  },
  {
   "cell_type": "markdown",
   "id": "7fce22e0",
   "metadata": {},
   "source": [
    "## Finalize X_train and X_test"
   ]
  },
  {
   "cell_type": "code",
   "execution_count": 49,
   "id": "4c99afca",
   "metadata": {},
   "outputs": [
    {
     "data": {
      "text/html": [
       "<div>\n",
       "<style scoped>\n",
       "    .dataframe tbody tr th:only-of-type {\n",
       "        vertical-align: middle;\n",
       "    }\n",
       "\n",
       "    .dataframe tbody tr th {\n",
       "        vertical-align: top;\n",
       "    }\n",
       "\n",
       "    .dataframe thead th {\n",
       "        text-align: right;\n",
       "    }\n",
       "</style>\n",
       "<table border=\"1\" class=\"dataframe\">\n",
       "  <thead>\n",
       "    <tr style=\"text-align: right;\">\n",
       "      <th></th>\n",
       "      <th>BORO</th>\n",
       "      <th>CUISINE DESCRIPTION</th>\n",
       "      <th>INSPECTION DATE</th>\n",
       "      <th>VIOLATION DESCRIPTION</th>\n",
       "      <th>SCORE</th>\n",
       "      <th>INSPECTION TYPE</th>\n",
       "      <th>Latitude</th>\n",
       "      <th>Longitude</th>\n",
       "      <th>INSPECTION PURPOSE</th>\n",
       "      <th>POST COVID</th>\n",
       "      <th>...</th>\n",
       "      <th>DAYS SINCE LAST INSPECTION</th>\n",
       "      <th>YEAR</th>\n",
       "      <th>MONTH</th>\n",
       "      <th>DAY</th>\n",
       "      <th>TOTAL INSPECTIONS</th>\n",
       "      <th>RISKY BUSINESS</th>\n",
       "      <th>MONTHS OPERATING</th>\n",
       "      <th>AVERAGE VIOLATIONS</th>\n",
       "      <th>AVERAGE CRITICAL FLAGS</th>\n",
       "      <th>AVERAGE SCORE</th>\n",
       "    </tr>\n",
       "  </thead>\n",
       "  <tbody>\n",
       "    <tr>\n",
       "      <th>0</th>\n",
       "      <td>Bronx</td>\n",
       "      <td>Pizza</td>\n",
       "      <td>2020-03-05</td>\n",
       "      <td>Evidence of mice or live mice present in facil...</td>\n",
       "      <td>7.0</td>\n",
       "      <td>Cycle</td>\n",
       "      <td>40.845353</td>\n",
       "      <td>-73.865506</td>\n",
       "      <td>Initial</td>\n",
       "      <td>0</td>\n",
       "      <td>...</td>\n",
       "      <td>0</td>\n",
       "      <td>2020</td>\n",
       "      <td>03</td>\n",
       "      <td>05</td>\n",
       "      <td>2</td>\n",
       "      <td>0</td>\n",
       "      <td>28</td>\n",
       "      <td>1</td>\n",
       "      <td>1</td>\n",
       "      <td>4</td>\n",
       "    </tr>\n",
       "    <tr>\n",
       "      <th>1</th>\n",
       "      <td>Manhattan</td>\n",
       "      <td>American</td>\n",
       "      <td>2022-10-26</td>\n",
       "      <td>Accurate thermometer not provided or properly ...</td>\n",
       "      <td>10.0</td>\n",
       "      <td>Cycle</td>\n",
       "      <td>40.771553</td>\n",
       "      <td>-73.961387</td>\n",
       "      <td>Initial</td>\n",
       "      <td>1</td>\n",
       "      <td>...</td>\n",
       "      <td>0</td>\n",
       "      <td>2022</td>\n",
       "      <td>10</td>\n",
       "      <td>26</td>\n",
       "      <td>1</td>\n",
       "      <td>0</td>\n",
       "      <td>0</td>\n",
       "      <td>2</td>\n",
       "      <td>1</td>\n",
       "      <td>10</td>\n",
       "    </tr>\n",
       "    <tr>\n",
       "      <th>2</th>\n",
       "      <td>Brooklyn</td>\n",
       "      <td>American</td>\n",
       "      <td>2022-06-09</td>\n",
       "      <td>Live roaches present in facility's food and/or...</td>\n",
       "      <td>0.0</td>\n",
       "      <td>Cycle</td>\n",
       "      <td>40.618305</td>\n",
       "      <td>-73.991027</td>\n",
       "      <td>Initial</td>\n",
       "      <td>1</td>\n",
       "      <td>...</td>\n",
       "      <td>0</td>\n",
       "      <td>2022</td>\n",
       "      <td>06</td>\n",
       "      <td>09</td>\n",
       "      <td>3</td>\n",
       "      <td>0</td>\n",
       "      <td>9</td>\n",
       "      <td>4</td>\n",
       "      <td>2</td>\n",
       "      <td>0</td>\n",
       "    </tr>\n",
       "    <tr>\n",
       "      <th>3</th>\n",
       "      <td>Bronx</td>\n",
       "      <td>Latin American</td>\n",
       "      <td>2019-06-13</td>\n",
       "      <td>Food Protection Certificate not held by superv...</td>\n",
       "      <td>26.0</td>\n",
       "      <td>Cycle</td>\n",
       "      <td>40.869540</td>\n",
       "      <td>-73.827123</td>\n",
       "      <td>Initial</td>\n",
       "      <td>0</td>\n",
       "      <td>...</td>\n",
       "      <td>0</td>\n",
       "      <td>2019</td>\n",
       "      <td>06</td>\n",
       "      <td>13</td>\n",
       "      <td>3</td>\n",
       "      <td>0</td>\n",
       "      <td>35</td>\n",
       "      <td>3</td>\n",
       "      <td>2</td>\n",
       "      <td>9</td>\n",
       "    </tr>\n",
       "    <tr>\n",
       "      <th>4</th>\n",
       "      <td>Bronx</td>\n",
       "      <td>Other</td>\n",
       "      <td>2022-10-27</td>\n",
       "      <td>Non-food contact surface or equipment made of ...</td>\n",
       "      <td>10.0</td>\n",
       "      <td>Pre-permit</td>\n",
       "      <td>40.834032</td>\n",
       "      <td>-73.853141</td>\n",
       "      <td>Initial</td>\n",
       "      <td>1</td>\n",
       "      <td>...</td>\n",
       "      <td>0</td>\n",
       "      <td>2022</td>\n",
       "      <td>10</td>\n",
       "      <td>27</td>\n",
       "      <td>1</td>\n",
       "      <td>0</td>\n",
       "      <td>0</td>\n",
       "      <td>2</td>\n",
       "      <td>1</td>\n",
       "      <td>10</td>\n",
       "    </tr>\n",
       "    <tr>\n",
       "      <th>...</th>\n",
       "      <td>...</td>\n",
       "      <td>...</td>\n",
       "      <td>...</td>\n",
       "      <td>...</td>\n",
       "      <td>...</td>\n",
       "      <td>...</td>\n",
       "      <td>...</td>\n",
       "      <td>...</td>\n",
       "      <td>...</td>\n",
       "      <td>...</td>\n",
       "      <td>...</td>\n",
       "      <td>...</td>\n",
       "      <td>...</td>\n",
       "      <td>...</td>\n",
       "      <td>...</td>\n",
       "      <td>...</td>\n",
       "      <td>...</td>\n",
       "      <td>...</td>\n",
       "      <td>...</td>\n",
       "      <td>...</td>\n",
       "      <td>...</td>\n",
       "    </tr>\n",
       "    <tr>\n",
       "      <th>16471</th>\n",
       "      <td>Manhattan</td>\n",
       "      <td>Other</td>\n",
       "      <td>2022-05-03</td>\n",
       "      <td>Sanitized equipment or utensil, including in-u...</td>\n",
       "      <td>8.0</td>\n",
       "      <td>Cycle</td>\n",
       "      <td>40.706014</td>\n",
       "      <td>-74.011333</td>\n",
       "      <td>Initial</td>\n",
       "      <td>1</td>\n",
       "      <td>...</td>\n",
       "      <td>0</td>\n",
       "      <td>2022</td>\n",
       "      <td>05</td>\n",
       "      <td>03</td>\n",
       "      <td>2</td>\n",
       "      <td>0</td>\n",
       "      <td>12</td>\n",
       "      <td>2</td>\n",
       "      <td>1</td>\n",
       "      <td>4</td>\n",
       "    </tr>\n",
       "    <tr>\n",
       "      <th>16472</th>\n",
       "      <td>Brooklyn</td>\n",
       "      <td>Other</td>\n",
       "      <td>2022-12-05</td>\n",
       "      <td>Food, supplies, and equipment not protected fr...</td>\n",
       "      <td>7.0</td>\n",
       "      <td>Pre-permit</td>\n",
       "      <td>40.716792</td>\n",
       "      <td>-73.962076</td>\n",
       "      <td>Initial</td>\n",
       "      <td>1</td>\n",
       "      <td>...</td>\n",
       "      <td>0</td>\n",
       "      <td>2022</td>\n",
       "      <td>12</td>\n",
       "      <td>05</td>\n",
       "      <td>1</td>\n",
       "      <td>0</td>\n",
       "      <td>0</td>\n",
       "      <td>2</td>\n",
       "      <td>1</td>\n",
       "      <td>7</td>\n",
       "    </tr>\n",
       "    <tr>\n",
       "      <th>16473</th>\n",
       "      <td>Queens</td>\n",
       "      <td>Caribbean</td>\n",
       "      <td>2020-02-22</td>\n",
       "      <td>Evidence of mice or live mice present in facil...</td>\n",
       "      <td>11.0</td>\n",
       "      <td>Pre-permit</td>\n",
       "      <td>40.685121</td>\n",
       "      <td>-73.830120</td>\n",
       "      <td>Initial</td>\n",
       "      <td>0</td>\n",
       "      <td>...</td>\n",
       "      <td>0</td>\n",
       "      <td>2020</td>\n",
       "      <td>02</td>\n",
       "      <td>22</td>\n",
       "      <td>2</td>\n",
       "      <td>0</td>\n",
       "      <td>30</td>\n",
       "      <td>2</td>\n",
       "      <td>1</td>\n",
       "      <td>6</td>\n",
       "    </tr>\n",
       "    <tr>\n",
       "      <th>16474</th>\n",
       "      <td>Manhattan</td>\n",
       "      <td>American</td>\n",
       "      <td>2020-01-06</td>\n",
       "      <td>Food not protected from potential source of co...</td>\n",
       "      <td>6.0</td>\n",
       "      <td>Cycle</td>\n",
       "      <td>40.754439</td>\n",
       "      <td>-73.987150</td>\n",
       "      <td>Initial</td>\n",
       "      <td>0</td>\n",
       "      <td>...</td>\n",
       "      <td>0</td>\n",
       "      <td>2020</td>\n",
       "      <td>01</td>\n",
       "      <td>06</td>\n",
       "      <td>3</td>\n",
       "      <td>0</td>\n",
       "      <td>31</td>\n",
       "      <td>3</td>\n",
       "      <td>2</td>\n",
       "      <td>2</td>\n",
       "    </tr>\n",
       "    <tr>\n",
       "      <th>16475</th>\n",
       "      <td>Queens</td>\n",
       "      <td>Pizza</td>\n",
       "      <td>2019-02-11</td>\n",
       "      <td>Plumbing not properly installed or maintained;...</td>\n",
       "      <td>12.0</td>\n",
       "      <td>Pre-permit</td>\n",
       "      <td>40.745416</td>\n",
       "      <td>-73.903454</td>\n",
       "      <td>Initial</td>\n",
       "      <td>0</td>\n",
       "      <td>...</td>\n",
       "      <td>0</td>\n",
       "      <td>2019</td>\n",
       "      <td>02</td>\n",
       "      <td>11</td>\n",
       "      <td>3</td>\n",
       "      <td>0</td>\n",
       "      <td>35</td>\n",
       "      <td>3</td>\n",
       "      <td>1</td>\n",
       "      <td>4</td>\n",
       "    </tr>\n",
       "  </tbody>\n",
       "</table>\n",
       "<p>16476 rows × 22 columns</p>\n",
       "</div>"
      ],
      "text/plain": [
       "            BORO CUISINE DESCRIPTION INSPECTION DATE  \\\n",
       "0          Bronx               Pizza      2020-03-05   \n",
       "1      Manhattan            American      2022-10-26   \n",
       "2       Brooklyn            American      2022-06-09   \n",
       "3          Bronx      Latin American      2019-06-13   \n",
       "4          Bronx               Other      2022-10-27   \n",
       "...          ...                 ...             ...   \n",
       "16471  Manhattan               Other      2022-05-03   \n",
       "16472   Brooklyn               Other      2022-12-05   \n",
       "16473     Queens           Caribbean      2020-02-22   \n",
       "16474  Manhattan            American      2020-01-06   \n",
       "16475     Queens               Pizza      2019-02-11   \n",
       "\n",
       "                                   VIOLATION DESCRIPTION  SCORE  \\\n",
       "0      Evidence of mice or live mice present in facil...    7.0   \n",
       "1      Accurate thermometer not provided or properly ...   10.0   \n",
       "2      Live roaches present in facility's food and/or...    0.0   \n",
       "3      Food Protection Certificate not held by superv...   26.0   \n",
       "4      Non-food contact surface or equipment made of ...   10.0   \n",
       "...                                                  ...    ...   \n",
       "16471  Sanitized equipment or utensil, including in-u...    8.0   \n",
       "16472  Food, supplies, and equipment not protected fr...    7.0   \n",
       "16473  Evidence of mice or live mice present in facil...   11.0   \n",
       "16474  Food not protected from potential source of co...    6.0   \n",
       "16475  Plumbing not properly installed or maintained;...   12.0   \n",
       "\n",
       "      INSPECTION TYPE   Latitude  Longitude INSPECTION PURPOSE POST COVID  \\\n",
       "0               Cycle  40.845353 -73.865506            Initial          0   \n",
       "1               Cycle  40.771553 -73.961387            Initial          1   \n",
       "2               Cycle  40.618305 -73.991027            Initial          1   \n",
       "3               Cycle  40.869540 -73.827123            Initial          0   \n",
       "4          Pre-permit  40.834032 -73.853141            Initial          1   \n",
       "...               ...        ...        ...                ...        ...   \n",
       "16471           Cycle  40.706014 -74.011333            Initial          1   \n",
       "16472      Pre-permit  40.716792 -73.962076            Initial          1   \n",
       "16473      Pre-permit  40.685121 -73.830120            Initial          0   \n",
       "16474           Cycle  40.754439 -73.987150            Initial          0   \n",
       "16475      Pre-permit  40.745416 -73.903454            Initial          0   \n",
       "\n",
       "       ...  DAYS SINCE LAST INSPECTION  YEAR  MONTH DAY TOTAL INSPECTIONS  \\\n",
       "0      ...                           0  2020     03  05                 2   \n",
       "1      ...                           0  2022     10  26                 1   \n",
       "2      ...                           0  2022     06  09                 3   \n",
       "3      ...                           0  2019     06  13                 3   \n",
       "4      ...                           0  2022     10  27                 1   \n",
       "...    ...                         ...   ...    ...  ..               ...   \n",
       "16471  ...                           0  2022     05  03                 2   \n",
       "16472  ...                           0  2022     12  05                 1   \n",
       "16473  ...                           0  2020     02  22                 2   \n",
       "16474  ...                           0  2020     01  06                 3   \n",
       "16475  ...                           0  2019     02  11                 3   \n",
       "\n",
       "      RISKY BUSINESS  MONTHS OPERATING AVERAGE VIOLATIONS  \\\n",
       "0                  0                28                  1   \n",
       "1                  0                 0                  2   \n",
       "2                  0                 9                  4   \n",
       "3                  0                35                  3   \n",
       "4                  0                 0                  2   \n",
       "...              ...               ...                ...   \n",
       "16471              0                12                  2   \n",
       "16472              0                 0                  2   \n",
       "16473              0                30                  2   \n",
       "16474              0                31                  3   \n",
       "16475              0                35                  3   \n",
       "\n",
       "       AVERAGE CRITICAL FLAGS  AVERAGE SCORE  \n",
       "0                           1              4  \n",
       "1                           1             10  \n",
       "2                           2              0  \n",
       "3                           2              9  \n",
       "4                           1             10  \n",
       "...                       ...            ...  \n",
       "16471                       1              4  \n",
       "16472                       1              7  \n",
       "16473                       1              6  \n",
       "16474                       2              2  \n",
       "16475                       1              4  \n",
       "\n",
       "[16476 rows x 22 columns]"
      ]
     },
     "execution_count": 49,
     "metadata": {},
     "output_type": "execute_result"
    }
   ],
   "source": [
    "X_train = X_train.drop([\"CAMIS\", \"DBA\", \"BUILDING\", \"STREET\", \"ZIPCODE\", \"PHONE\", \n",
    "                        \"ACTION\", \"VIOLATION CODE\", \"CRITICAL FLAG\"], axis = 1)\n",
    "\n",
    "X_test = X_test.drop([\"CAMIS\", \"DBA\", \"BUILDING\", \"STREET\", \"ZIPCODE\", \"PHONE\", \n",
    "                      \"ACTION\", \"VIOLATION CODE\", \"CRITICAL FLAG\"], axis = 1)\n",
    "\n",
    "X_train"
   ]
  },
  {
   "cell_type": "code",
   "execution_count": 50,
   "id": "60e6bb56",
   "metadata": {},
   "outputs": [],
   "source": [
    "# save as csv files\n",
    "\n",
    "#X_train.to_csv(PATH + \"X_train_restaurants.csv\")\n",
    "#X_test.to_csv(PATH + \"X_test_restaurants.csv\")\n",
    "#y_train.to_csv(PATH + \"y_train_restaurants.csv\")\n",
    "#y_test.to_csv(PATH + \"y_test_restaurants.csv\")"
   ]
  }
 ],
 "metadata": {
  "kernelspec": {
   "display_name": "Python 3 (ipykernel)",
   "language": "python",
   "name": "python3"
  },
  "language_info": {
   "codemirror_mode": {
    "name": "ipython",
    "version": 3
   },
   "file_extension": ".py",
   "mimetype": "text/x-python",
   "name": "python",
   "nbconvert_exporter": "python",
   "pygments_lexer": "ipython3",
   "version": "3.12.0"
  }
 },
 "nbformat": 4,
 "nbformat_minor": 5
}
